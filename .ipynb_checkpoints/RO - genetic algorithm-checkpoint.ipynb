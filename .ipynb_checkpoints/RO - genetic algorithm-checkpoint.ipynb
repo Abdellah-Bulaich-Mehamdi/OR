{
 "cells": [
  {
   "cell_type": "code",
   "execution_count": 1,
   "id": "0bc11248",
   "metadata": {},
   "outputs": [],
   "source": [
    "import sys\n",
    "sys.path.insert(0, './utils')\n",
    "\n",
    "import random\n",
    "import time\n",
    "import matplotlib.pyplot as plt\n",
    "\n",
    "from genetic import fitness, selection\n",
    "from knapsack import *"
   ]
  },
  {
   "cell_type": "code",
   "execution_count": 2,
   "id": "f957e012",
   "metadata": {},
   "outputs": [],
   "source": [
    "class Genes():\n",
    "    def __init__(self, v, w, W, G = 10):\n",
    "        self.v = v\n",
    "        self.w = w\n",
    "        self.n = len(v)\n",
    "        self.W = W\n",
    "        self.G = G\n",
    "        self.generation = [self.generate() for _ in range(self.G)]\n",
    "        \n",
    "    def literal(self, D):\n",
    "        string = \"\"\n",
    "        for element in D:\n",
    "            string += str(element)\n",
    "        return string\n",
    "\n",
    "    def numerical(self, string):\n",
    "        D = []\n",
    "        for element in string:\n",
    "            D.append(int(element))\n",
    "        return D\n",
    "    \n",
    "    def reset(self):\n",
    "        self.generation = [self.generate() for _ in range(self.G)]\n",
    "    \n",
    "    def generate(self):\n",
    "        string = \"\"\n",
    "        for i in range(self.n):\n",
    "            string += str(random.randint(0,1))\n",
    "        return string\n",
    "    \n",
    "    def update(self):\n",
    "        self.generation = selection(self.generation, self.v, self.w, self.W, self.G)\n",
    "        self.fitness = [fitness(d, self.v, self.w, self.W) for d in self.generation]\n",
    "        \n",
    "    def infinity(self, boolean = True):\n",
    "        try:\n",
    "            while True:\n",
    "                if boolean:\n",
    "                    for d in self.generation:\n",
    "                        print(\"{0}, {1}\".format(d, fitness(d, self.v, self.w, self.W)))  \n",
    "                    print(\"-------\")\n",
    "                    self.update()\n",
    "                else:\n",
    "                    self.update()\n",
    "\n",
    "        except:\n",
    "            if boolean:\n",
    "                print(\"SOLUTION GENERATED!\")"
   ]
  },
  {
   "cell_type": "code",
   "execution_count": 6,
   "id": "75a398ef",
   "metadata": {},
   "outputs": [],
   "source": [
    "v = [20, 5, 10, 40, 15, 25, 30, 50, 10, 30, 40]\n",
    "w = [ 1, 2,  3,  8,  7,  4,  1,  2,  2,  8,  1]\n",
    "W = 12\n",
    "G = 10"
   ]
  },
  {
   "cell_type": "code",
   "execution_count": 7,
   "id": "2b2e4d99",
   "metadata": {
    "scrolled": true
   },
   "outputs": [
    {
     "data": {
      "text/plain": [
       "175"
      ]
     },
     "execution_count": 7,
     "metadata": {},
     "output_type": "execute_result"
    }
   ],
   "source": [
    "Knapsack(v, w, W) # Compute the exact maximum value"
   ]
  },
  {
   "cell_type": "code",
   "execution_count": 9,
   "id": "b3c5565a",
   "metadata": {},
   "outputs": [
    {
     "name": "stdout",
     "output_type": "stream",
     "text": [
      "CPU times: user 466 ms, sys: 13.3 ms, total: 479 ms\n",
      "Wall time: 466 ms\n"
     ]
    },
    {
     "data": {
      "text/plain": [
       "[<matplotlib.lines.Line2D at 0x127dc70a0>]"
      ]
     },
     "execution_count": 9,
     "metadata": {},
     "output_type": "execute_result"
    },
    {
     "data": {
      "image/png": "[encoded data removed]",
      "text/plain": [
       "<Figure size 432x288 with 1 Axes>"
      ]
     },
     "metadata": {
      "needs_background": "light"
     },
     "output_type": "display_data"
    }
   ],
   "source": [
    "%%time\n",
    "genes = Genes(v, w, W, G)\n",
    "rounds = 1000\n",
    "maximum = []\n",
    "for _ in range(rounds):\n",
    "    genes.reset()\n",
    "    genes.infinity(False)\n",
    "    maximum.append(max(genes.fitness))\n",
    "    \n",
    "plt.plot(maximum)"
   ]
  },
  {
   "cell_type": "code",
   "execution_count": null,
   "id": "3ea44aaf",
   "metadata": {},
   "outputs": [],
   "source": []
  },
  {
   "cell_type": "code",
   "execution_count": null,
   "id": "d9949808",
   "metadata": {},
   "outputs": [],
   "source": []
  }
 ],
 "metadata": {
  "kernelspec": {
   "display_name": "Python 3 (ipykernel)",
   "language": "python",
   "name": "python3"
  },
  "language_info": {
   "codemirror_mode": {
    "name": "ipython",
    "version": 3
   },
   "file_extension": ".py",
   "mimetype": "text/x-python",
   "name": "python",
   "nbconvert_exporter": "python",
   "pygments_lexer": "ipython3",
   "version": "3.9.13"
  }
 },
 "nbformat": 4,
 "nbformat_minor": 5
}
