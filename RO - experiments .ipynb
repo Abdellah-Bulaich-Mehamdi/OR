{
 "cells": [
  {
   "cell_type": "code",
   "execution_count": 1,
   "id": "2c8f51eb",
   "metadata": {},
   "outputs": [],
   "source": [
    "import numpy.random as rand\n",
    "import networkx as nx\n",
    "import numpy as np\n",
    "import matplotlib.pyplot as plt\n",
    "import random\n",
    "from pulp import *\n",
    "# from ortools.sat.python import cp_model # ortools != tensorflow (protobuf)"
   ]
  },
  {
   "cell_type": "markdown",
   "id": "f0ae35ae",
   "metadata": {},
   "source": [
    "### Linear programming"
   ]
  },
  {
   "cell_type": "code",
   "execution_count": 2,
   "id": "a0c38695",
   "metadata": {},
   "outputs": [
    {
     "data": {
      "text/plain": [
       "'\\nmodel = cp_model.CpModel()\\n'"
      ]
     },
     "execution_count": 2,
     "metadata": {},
     "output_type": "execute_result"
    }
   ],
   "source": [
    "\"\"\"\n",
    "model = cp_model.CpModel()\n",
    "\"\"\""
   ]
  },
  {
   "cell_type": "code",
   "execution_count": 3,
   "id": "4a7f9687",
   "metadata": {},
   "outputs": [
    {
     "data": {
      "text/plain": [
       "\"\\n#Boundaries#\\nvar_upper_bound = max(50, 45, 37)\\n#Declare variables\\nx = model.NewIntVar(0, var_upper_bound, 'x')\\ny = model.NewIntVar(0, var_upper_bound, 'y')\\nz = model.NewIntVar(0, var_upper_bound, 'z')\\n\""
      ]
     },
     "execution_count": 3,
     "metadata": {},
     "output_type": "execute_result"
    }
   ],
   "source": [
    "\"\"\"\n",
    "#Boundaries#\n",
    "var_upper_bound = max(50, 45, 37)\n",
    "#Declare variables\n",
    "x = model.NewIntVar(0, var_upper_bound, 'x')\n",
    "y = model.NewIntVar(0, var_upper_bound, 'y')\n",
    "z = model.NewIntVar(0, var_upper_bound, 'z')\n",
    "\"\"\""
   ]
  },
  {
   "cell_type": "code",
   "execution_count": 4,
   "id": "df1c11dc",
   "metadata": {
    "scrolled": true
   },
   "outputs": [
    {
     "data": {
      "text/plain": [
       "\"\\n#Remaining constraints#\\nmodel.Add(2*x + 7*y + 3*z <= 50)\\nmodel.Add(3*x - 5*y + 7*z <= 45)\\nmodel.Add(5*x + 2*y - 6*z <= 37)\\n#Maximise objective function#\\nmodel.Maximize(2*x + 2*y +3*z)\\n#Output possible solution#\\nsolver = cp_model.CpSolver()\\nstatus = solver.Solve(model)\\n\\nif status == cp_model.OPTIMAL:\\n    print('Maximum value of objective function: %i' % solver.ObjectiveValue())\\n    print('x value: ', solver.Value(x))\\n    print('y value: ', solver.Value(y))\\n    print('z value: ', solver.Value(z))\\n\""
      ]
     },
     "execution_count": 4,
     "metadata": {},
     "output_type": "execute_result"
    }
   ],
   "source": [
    "\"\"\"\n",
    "#Remaining constraints#\n",
    "model.Add(2*x + 7*y + 3*z <= 50)\n",
    "model.Add(3*x - 5*y + 7*z <= 45)\n",
    "model.Add(5*x + 2*y - 6*z <= 37)\n",
    "#Maximise objective function#\n",
    "model.Maximize(2*x + 2*y +3*z)\n",
    "#Output possible solution#\n",
    "solver = cp_model.CpSolver()\n",
    "status = solver.Solve(model)\n",
    "\n",
    "if status == cp_model.OPTIMAL:\n",
    "    print('Maximum value of objective function: %i' % solver.ObjectiveValue())\n",
    "    print('x value: ', solver.Value(x))\n",
    "    print('y value: ', solver.Value(y))\n",
    "    print('z value: ', solver.Value(z))\n",
    "\"\"\""
   ]
  },
  {
   "cell_type": "code",
   "execution_count": 5,
   "id": "4eb73891",
   "metadata": {},
   "outputs": [],
   "source": [
    "### PL"
   ]
  },
  {
   "cell_type": "code",
   "execution_count": 6,
   "id": "cac4c1f8",
   "metadata": {},
   "outputs": [
    {
     "name": "stdout",
     "output_type": "stream",
     "text": [
      "Welcome to the CBC MILP Solver \n",
      "Version: 2.10.3 \n",
      "Build Date: Dec 15 2019 \n",
      "\n",
      "command line - /Users/abdellah/miniforge3/lib/python3.9/site-packages/pulp/solverdir/cbc/osx/64/cbc /var/folders/ll/f_v0rt1515j5wph8nq7kr35r0000gn/T/50830a0192fe47839dd8d63b7f79da62-pulp.mps max timeMode elapsed branch printingOptions all solution /var/folders/ll/f_v0rt1515j5wph8nq7kr35r0000gn/T/50830a0192fe47839dd8d63b7f79da62-pulp.sol (default strategy 1)\n",
      "At line 2 NAME          MODEL\n",
      "At line 3 ROWS\n",
      "At line 10 COLUMNS\n",
      "At line 21 RHS\n",
      "At line 27 BOUNDS\n",
      "At line 30 ENDATA\n",
      "Problem MODEL has 5 rows, 2 columns and 8 elements\n",
      "Coin0008I MODEL read with 0 errors\n",
      "Option for timeMode changed from cpu to elapsed\n",
      "Presolve 0 (-5) rows, 0 (-2) columns and 0 (-8) elements\n",
      "Empty problem - 0 rows, 0 columns and 0 elements\n",
      "Optimal - objective value 14.5\n",
      "After Postsolve, objective 14.5, infeasibilities - dual 0 (0), primal 0 (0)\n",
      "Optimal objective 14.5 - 0 iterations time 0.002, Presolve 0.00\n",
      "Option for printingOptions changed from normal to all\n",
      "Total time (CPU seconds):       0.00   (Wallclock seconds):       0.01\n",
      "\n"
     ]
    },
    {
     "data": {
      "text/plain": [
       "<bound method LpProblem.variables of myProblem:\n",
       "MAXIMIZE\n",
       "1*x + 2*y + 0\n",
       "SUBJECT TO\n",
       "_C1: x + 3 y <= 21\n",
       "\n",
       "_C2: - x + 3 y = 18\n",
       "\n",
       "_C3: x - y <= 5\n",
       "\n",
       "_C4: - x <= 0\n",
       "\n",
       "_C5: - y <= 0\n",
       "\n",
       "VARIABLES\n",
       "x free Continuous\n",
       "y free Continuous\n",
       ">"
      ]
     },
     "execution_count": 6,
     "metadata": {},
     "output_type": "execute_result"
    }
   ],
   "source": [
    "x = LpVariable(\"x\")\n",
    "y = LpVariable(\"y\")\n",
    "prob = LpProblem(\"myProblem\", LpMaximize)\n",
    "prob += x+2*y\n",
    "prob += x+3*y <= 21\n",
    "prob +=-x+3*y == 18\n",
    "prob += x- y  <= 5\n",
    "prob +=-x     <= 0\n",
    "prob +=  - y  <= 0\n",
    "prob.solve()\n",
    "prob.variables"
   ]
  },
  {
   "cell_type": "code",
   "execution_count": 7,
   "id": "2f5bd376",
   "metadata": {},
   "outputs": [
    {
     "name": "stdout",
     "output_type": "stream",
     "text": [
      "La valeur de x: 1.5\n",
      "La valeur de y: 6.5\n"
     ]
    }
   ],
   "source": [
    "for v in prob.variables():\n",
    "    print(f\"La valeur de {v}: {pulp.value(v)}\")"
   ]
  },
  {
   "cell_type": "code",
   "execution_count": 8,
   "id": "2bdb7629",
   "metadata": {},
   "outputs": [],
   "source": [
    "### 4.6"
   ]
  },
  {
   "cell_type": "code",
   "execution_count": 9,
   "id": "072097b3",
   "metadata": {
    "scrolled": true
   },
   "outputs": [
    {
     "name": "stdout",
     "output_type": "stream",
     "text": [
      "Welcome to the CBC MILP Solver \n",
      "Version: 2.10.3 \n",
      "Build Date: Dec 15 2019 \n",
      "\n",
      "command line - /Users/abdellah/miniforge3/lib/python3.9/site-packages/pulp/solverdir/cbc/osx/64/cbc /var/folders/ll/f_v0rt1515j5wph8nq7kr35r0000gn/T/b9d0390970be41e6bee073ed2282bff3-pulp.mps timeMode elapsed branch printingOptions all solution /var/folders/ll/f_v0rt1515j5wph8nq7kr35r0000gn/T/b9d0390970be41e6bee073ed2282bff3-pulp.sol (default strategy 1)\n",
      "At line 2 NAME          MODEL\n",
      "At line 3 ROWS\n",
      "At line 46 COLUMNS\n",
      "At line 317 RHS\n",
      "At line 359 BOUNDS\n",
      "At line 420 ENDATA\n",
      "Problem MODEL has 41 rows, 60 columns and 120 elements\n",
      "Coin0008I MODEL read with 0 errors\n",
      "Option for timeMode changed from cpu to elapsed\n",
      "Continuous objective value is 15076.5 - 0.00 seconds\n",
      "Cgl0003I 0 fixed, 30 tightened bounds, 0 strengthened rows, 0 substitutions\n",
      "Cgl0004I processed model has 41 rows, 60 columns (60 integer (0 of which binary)) and 120 elements\n",
      "Cutoff increment increased from 1e-05 to 0.9999\n",
      "Cbc0012I Integer solution of 16184 found by DiveCoefficient after 0 iterations and 0 nodes (0.01 seconds)\n",
      "Cbc0038I Full problem 41 rows 60 columns, reduced to 0 rows 0 columns\n",
      "Cbc0012I Integer solution of 15617 found by DiveCoefficient after 35 iterations and 0 nodes (0.07 seconds)\n",
      "Cbc0031I 12 added rows had average density of 24.25\n",
      "Cbc0013I At root node, 12 cuts changed objective from 15076.5 to 15617 in 6 passes\n",
      "Cbc0014I Cut generator 0 (Probing) - 0 row cuts average 0.0 elements, 1 column cuts (1 active)  in 0.001 seconds - new frequency is 1\n",
      "Cbc0014I Cut generator 1 (Gomory) - 28 row cuts average 38.9 elements, 0 column cuts (0 active)  in 0.000 seconds - new frequency is 1\n",
      "Cbc0014I Cut generator 2 (Knapsack) - 0 row cuts average 0.0 elements, 0 column cuts (0 active)  in 0.000 seconds - new frequency is -100\n",
      "Cbc0014I Cut generator 3 (Clique) - 0 row cuts average 0.0 elements, 0 column cuts (0 active)  in 0.000 seconds - new frequency is -100\n",
      "Cbc0014I Cut generator 4 (MixedIntegerRounding2) - 0 row cuts average 0.0 elements, 0 column cuts (0 active)  in 0.000 seconds - new frequency is -100\n",
      "Cbc0014I Cut generator 5 (FlowCover) - 0 row cuts average 0.0 elements, 0 column cuts (0 active)  in 0.000 seconds - new frequency is -100\n",
      "Cbc0014I Cut generator 6 (TwoMirCuts) - 27 row cuts average 34.8 elements, 0 column cuts (0 active)  in 0.001 seconds - new frequency is 1\n",
      "Cbc0014I Cut generator 7 (ZeroHalf) - 8 row cuts average 5.4 elements, 0 column cuts (0 active)  in 0.024 seconds - new frequency is 1\n",
      "Cbc0001I Search completed - best objective 15617, took 35 iterations and 0 nodes (0.07 seconds)\n",
      "Cbc0035I Maximum depth 0, 0 variables fixed on reduced cost\n",
      "Cuts at root node changed objective from 15076.5 to 15617\n",
      "Probing was tried 6 times and created 1 cuts of which 0 were active after adding rounds of cuts (0.001 seconds)\n",
      "Gomory was tried 6 times and created 28 cuts of which 0 were active after adding rounds of cuts (0.000 seconds)\n",
      "Knapsack was tried 6 times and created 0 cuts of which 0 were active after adding rounds of cuts (0.000 seconds)\n",
      "Clique was tried 6 times and created 0 cuts of which 0 were active after adding rounds of cuts (0.000 seconds)\n",
      "MixedIntegerRounding2 was tried 6 times and created 0 cuts of which 0 were active after adding rounds of cuts (0.000 seconds)\n",
      "FlowCover was tried 6 times and created 0 cuts of which 0 were active after adding rounds of cuts (0.000 seconds)\n",
      "TwoMirCuts was tried 6 times and created 27 cuts of which 0 were active after adding rounds of cuts (0.001 seconds)\n",
      "ZeroHalf was tried 6 times and created 8 cuts of which 0 were active after adding rounds of cuts (0.024 seconds)\n",
      "\n",
      "Result - Optimal solution found\n",
      "\n",
      "Objective value:                15617.00000000\n",
      "Enumerated nodes:               0\n",
      "Total iterations:               35\n",
      "Time (CPU seconds):             0.03\n",
      "Time (Wallclock seconds):       0.07\n",
      "\n",
      "Option for printingOptions changed from normal to all\n",
      "Total time (CPU seconds):       0.03   (Wallclock seconds):       0.07\n",
      "\n",
      "La valeur de l_(1,1): 0.0\n",
      "La valeur de l_(1,2): 5.0\n",
      "La valeur de l_(1,3): 0.0\n",
      "La valeur de l_(1,4): 0.0\n",
      "La valeur de l_(1,5): 0.0\n",
      "La valeur de l_(2,1): 3.0\n",
      "La valeur de l_(2,2): 3.0\n",
      "La valeur de l_(2,3): 1.0\n",
      "La valeur de l_(2,4): 0.0\n",
      "La valeur de l_(2,5): 0.0\n",
      "La valeur de l_(3,1): 7.0\n",
      "La valeur de l_(3,2): 0.0\n",
      "La valeur de l_(3,3): 0.0\n",
      "La valeur de l_(3,4): 3.0\n",
      "La valeur de l_(3,5): 0.0\n",
      "La valeur de l_(4,1): 0.0\n",
      "La valeur de l_(4,2): 0.0\n",
      "La valeur de l_(4,3): 12.0\n",
      "La valeur de l_(4,4): 0.0\n",
      "La valeur de l_(4,5): 0.0\n",
      "La valeur de l_(5,1): 0.0\n",
      "La valeur de l_(5,2): 0.0\n",
      "La valeur de l_(5,3): 0.0\n",
      "La valeur de l_(5,4): 1.0\n",
      "La valeur de l_(5,5): 9.0\n",
      "La valeur de l_(6,1): 0.0\n",
      "La valeur de l_(6,2): 0.0\n",
      "La valeur de l_(6,3): 0.0\n",
      "La valeur de l_(6,4): 13.0\n",
      "La valeur de l_(6,5): 2.0\n",
      "La valeur de x_(1,1): 0.0\n",
      "La valeur de x_(1,2): 10.0\n",
      "La valeur de x_(1,3): 0.0\n",
      "La valeur de x_(1,4): 0.0\n",
      "La valeur de x_(1,5): 0.0\n",
      "La valeur de x_(2,1): 6.0\n",
      "La valeur de x_(2,2): 5.0\n",
      "La valeur de x_(2,3): 1.0\n",
      "La valeur de x_(2,4): 0.0\n",
      "La valeur de x_(2,5): 0.0\n",
      "La valeur de x_(3,1): 14.0\n",
      "La valeur de x_(3,2): 0.0\n",
      "La valeur de x_(3,3): 0.0\n",
      "La valeur de x_(3,4): 6.0\n",
      "La valeur de x_(3,5): 0.0\n",
      "La valeur de x_(4,1): 0.0\n",
      "La valeur de x_(4,2): 0.0\n",
      "La valeur de x_(4,3): 24.0\n",
      "La valeur de x_(4,4): 0.0\n",
      "La valeur de x_(4,5): 0.0\n",
      "La valeur de x_(5,1): 0.0\n",
      "La valeur de x_(5,2): 0.0\n",
      "La valeur de x_(5,3): 0.0\n",
      "La valeur de x_(5,4): 1.0\n",
      "La valeur de x_(5,5): 17.0\n",
      "La valeur de x_(6,1): 0.0\n",
      "La valeur de x_(6,2): 0.0\n",
      "La valeur de x_(6,3): 0.0\n",
      "La valeur de x_(6,4): 26.0\n",
      "La valeur de x_(6,5): 4.0\n"
     ]
    }
   ],
   "source": [
    "n, m = 6, 5\n",
    "dist = [\n",
    "        [ 290, 115, 355, 715, 810],\n",
    "        [ 380, 340, 165, 380, 610],\n",
    "        [ 505, 530, 285, 220, 450],\n",
    "        [ 655, 450, 155, 240, 315],\n",
    "        [1010, 840, 550, 305,  95],\n",
    "        [1027,1097, 747, 372, 333]\n",
    "       ]\n",
    "empty  = [10, 12, 20, 24, 18, 40]\n",
    "demand = [20, 15, 25, 33, 21]\n",
    "\n",
    "l = LpVariable.dicts(\"l\", [str.format(\"({0},{1})\",i,j) for i in range(1, n+1) for j in range(1, m+1)], lowBound = 0, cat = \"Integer\")\n",
    "x = LpVariable.dicts(\"x\", [str.format(\"({0},{1})\",i,j) for i in range(1, n+1) for j in range(1, m+1)], lowBound = 0, cat = \"Integer\")\n",
    "\n",
    "prob  = LpProblem(\"Max-Flow\", LpMinimize) \n",
    "prob += lpSum([dist[i-1][j-1]*l[str.format(\"({0},{1})\",i,j)] for i in range(1, n+1) for j in range(1, m+1)])\n",
    "\n",
    "for i in range(1, n+1):\n",
    "    prob += lpSum([x[str.format(\"({0},{1})\",i,j)] for j in range(1, m+1)]) <=  empty[i-1] \n",
    "    \n",
    "for j in range(1, m+1):\n",
    "    prob += lpSum([x[str.format(\"({0},{1})\",i,j)] for i in range(1, n+1)]) == demand[j-1] \n",
    "    \n",
    "for i in range(1, n+1):\n",
    "    for j in range(1, m+1):\n",
    "        prob += 2*l[str.format(\"({0},{1})\",i,j)] >= x[str.format(\"({0},{1})\",i,j)]\n",
    "        \n",
    "prob.solve()\n",
    "\n",
    "for v in prob.variables():\n",
    "    print(f\"La valeur de {v}: {pulp.value(v)}\")"
   ]
  },
  {
   "cell_type": "code",
   "execution_count": 10,
   "id": "f5d433fd",
   "metadata": {},
   "outputs": [
    {
     "data": {
      "text/plain": [
       "57.2"
      ]
     },
     "execution_count": 10,
     "metadata": {},
     "output_type": "execute_result"
    }
   ],
   "source": [
    "28.6*2"
   ]
  },
  {
   "cell_type": "code",
   "execution_count": 11,
   "id": "768d4cdc",
   "metadata": {},
   "outputs": [
    {
     "name": "stdout",
     "output_type": "stream",
     "text": [
      "Welcome to the CBC MILP Solver \n",
      "Version: 2.10.3 \n",
      "Build Date: Dec 15 2019 \n",
      "\n",
      "command line - /Users/abdellah/miniforge3/lib/python3.9/site-packages/pulp/solverdir/cbc/osx/64/cbc /var/folders/ll/f_v0rt1515j5wph8nq7kr35r0000gn/T/7f57f32bd5024115a6474642a49447cd-pulp.mps timeMode elapsed branch printingOptions all solution /var/folders/ll/f_v0rt1515j5wph8nq7kr35r0000gn/T/7f57f32bd5024115a6474642a49447cd-pulp.sol (default strategy 1)\n",
      "At line 2 NAME          MODEL\n",
      "At line 3 ROWS\n",
      "At line 7 COLUMNS\n",
      "At line 71 RHS\n",
      "At line 74 BOUNDS\n",
      "At line 90 ENDATA\n",
      "Problem MODEL has 2 rows, 16 columns and 32 elements\n",
      "Coin0008I MODEL read with 0 errors\n",
      "Option for timeMode changed from cpu to elapsed\n",
      "Continuous objective value is 28.55 - 0.00 seconds\n",
      "Cgl0004I processed model has 2 rows, 15 columns (14 integer (13 of which binary)) and 30 elements\n",
      "Cbc0038I Initial state - 1 integers unsatisfied sum - 0.0288462\n",
      "Cbc0038I Pass   1: suminf.    0.03333 (1) obj. 28.55 iterations 1\n",
      "Cbc0038I Solution found of 28.55\n",
      "Cbc0038I Branch and bound needed to clear up 1 general integers\n",
      "Cbc0038I Full problem 2 rows 15 columns, reduced to 2 rows 2 columns\n",
      "Cbc0038I Cleaned solution of 28.7\n",
      "Cbc0038I Before mini branch and bound, 12 integers at bound fixed and 0 continuous\n",
      "Cbc0038I Full problem 2 rows 15 columns, reduced to 2 rows 2 columns\n",
      "Cbc0038I Mini branch and bound improved solution from 28.7 to 28.7 (0.00 seconds)\n",
      "Cbc0038I Round again with cutoff of 28.685\n",
      "Cbc0038I Pass   2: suminf.    0.03333 (1) obj. 28.55 iterations 0\n",
      "Cbc0038I Solution found of 28.55\n",
      "Cbc0038I Branch and bound needed to clear up 1 general integers\n",
      "Cbc0038I Mini branch and bound could not fix general integers\n",
      "Cbc0038I No solution found this major pass\n",
      "Cbc0038I Before mini branch and bound, 12 integers at bound fixed and 0 continuous\n",
      "Cbc0038I Full problem 2 rows 15 columns, reduced to 2 rows 2 columns\n",
      "Cbc0038I Mini branch and bound did not improve solution (0.00 seconds)\n",
      "Cbc0038I After 0.00 seconds - Feasibility pump exiting with objective of 28.7 - took 0.00 seconds\n",
      "Cbc0012I Integer solution of 28.7 found by feasibility pump after 0 iterations and 0 nodes (0.00 seconds)\n",
      "Cbc0038I Full problem 2 rows 15 columns, reduced to 2 rows 2 columns\n",
      "Cbc0031I 1 added rows had average density of 15\n",
      "Cbc0013I At root node, 1 cuts changed objective from 28.55 to 28.55 in 17 passes\n",
      "Cbc0014I Cut generator 0 (Probing) - 0 row cuts average 0.0 elements, 0 column cuts (0 active)  in 0.000 seconds - new frequency is -100\n",
      "Cbc0014I Cut generator 1 (Gomory) - 18 row cuts average 15.0 elements, 0 column cuts (0 active)  in 0.000 seconds - new frequency is -100\n",
      "Cbc0014I Cut generator 2 (Knapsack) - 0 row cuts average 0.0 elements, 0 column cuts (0 active)  in 0.000 seconds - new frequency is -100\n",
      "Cbc0014I Cut generator 3 (Clique) - 0 row cuts average 0.0 elements, 0 column cuts (0 active)  in 0.000 seconds - new frequency is -100\n",
      "Cbc0014I Cut generator 4 (MixedIntegerRounding2) - 0 row cuts average 0.0 elements, 0 column cuts (0 active)  in 0.000 seconds - new frequency is -100\n",
      "Cbc0014I Cut generator 5 (FlowCover) - 0 row cuts average 0.0 elements, 0 column cuts (0 active)  in 0.000 seconds - new frequency is -100\n",
      "Cbc0010I After 0 nodes, 1 on tree, 28.7 best solution, best possible 28.55 (0.01 seconds)\n",
      "Cbc0012I Integer solution of 28.6 found by DiveCoefficient after 35 iterations and 4 nodes (0.01 seconds)\n",
      "Cbc0038I Full problem 2 rows 15 columns, reduced to 2 rows 6 columns\n",
      "Cbc0038I Full problem 2 rows 15 columns, reduced to 2 rows 6 columns\n",
      "Cbc0038I Full problem 2 rows 15 columns, reduced to 2 rows 6 columns\n",
      "Cbc0038I Full problem 2 rows 15 columns, reduced to 2 rows 10 columns\n",
      "Cbc0038I Full problem 2 rows 15 columns, reduced to 2 rows 8 columns\n",
      "Cbc0038I Full problem 2 rows 15 columns, reduced to 2 rows 7 columns\n",
      "Cbc0010I After 1000 nodes, 9 on tree, 28.6 best solution, best possible 28.55 (0.07 seconds)\n",
      "Cbc0038I Full problem 2 rows 15 columns, reduced to 2 rows 8 columns\n",
      "Cbc0038I Full problem 2 rows 15 columns, reduced to 2 rows 7 columns\n",
      "Cbc0038I Full problem 2 rows 15 columns, reduced to 2 rows 10 columns\n",
      "Cbc0038I Full problem 2 rows 15 columns, reduced to 2 rows 9 columns\n",
      "Cbc0010I After 2000 nodes, 6 on tree, 28.6 best solution, best possible 28.55 (0.13 seconds)\n",
      "Cbc0038I Full problem 2 rows 15 columns, reduced to 2 rows 7 columns\n",
      "Cbc0010I After 3000 nodes, 2 on tree, 28.6 best solution, best possible 28.55 (0.18 seconds)\n",
      "Cbc0001I Search completed - best objective 28.6, took 14614 iterations and 14068 nodes (0.18 seconds)\n",
      "Cbc0032I Strong branching done 3592 times (4002 iterations), fathomed 403 nodes and fixed 1 variables\n",
      "Cbc0041I Maximum depth 12, 1 variables fixed on reduced cost (complete fathoming 965 times, 11034 nodes taking 10690 iterations)\n",
      "Cuts at root node changed objective from 28.55 to 28.55\n",
      "Probing was tried 17 times and created 0 cuts of which 0 were active after adding rounds of cuts (0.000 seconds)\n",
      "Gomory was tried 17 times and created 18 cuts of which 0 were active after adding rounds of cuts (0.000 seconds)\n",
      "Knapsack was tried 17 times and created 0 cuts of which 0 were active after adding rounds of cuts (0.000 seconds)\n",
      "Clique was tried 17 times and created 0 cuts of which 0 were active after adding rounds of cuts (0.000 seconds)\n",
      "MixedIntegerRounding2 was tried 17 times and created 0 cuts of which 0 were active after adding rounds of cuts (0.000 seconds)\n",
      "FlowCover was tried 17 times and created 0 cuts of which 0 were active after adding rounds of cuts (0.000 seconds)\n",
      "TwoMirCuts was tried 1 times and created 0 cuts of which 0 were active after adding rounds of cuts (0.000 seconds)\n",
      "ZeroHalf was tried 1 times and created 0 cuts of which 0 were active after adding rounds of cuts (0.000 seconds)\n",
      "\n",
      "Result - Optimal solution found\n",
      "\n",
      "Objective value:                28.60000000\n",
      "Enumerated nodes:               14068\n",
      "Total iterations:               14614\n",
      "Time (CPU seconds):             0.18\n",
      "Time (Wallclock seconds):       0.18\n",
      "\n",
      "Option for printingOptions changed from normal to all\n",
      "Total time (CPU seconds):       0.18   (Wallclock seconds):       0.19\n",
      "\n",
      "La valeur de e: 28.6\n",
      "La valeur de x_1: 1.0\n",
      "La valeur de x_10: 1.0\n",
      "La valeur de x_11: 1.0\n",
      "La valeur de x_12: 1.0\n",
      "La valeur de x_13: 1.0\n",
      "La valeur de x_14: 0.0\n",
      "La valeur de x_15: 0.0\n",
      "La valeur de x_2: 1.0\n",
      "La valeur de x_3: 0.0\n",
      "La valeur de x_4: 0.0\n",
      "La valeur de x_5: 1.0\n",
      "La valeur de x_6: 0.0\n",
      "La valeur de x_7: 1.0\n",
      "La valeur de x_8: 0.0\n",
      "La valeur de x_9: 0.0\n"
     ]
    }
   ],
   "source": [
    "n = 15\n",
    "d = [4, 4.5, 5, 4.1, 2.4, 5.2, 3.7, 3.5, 3.2, 4.5, 2.3, 3.3, 3.8, 4.6, 3]\n",
    "\n",
    "x = LpVariable.dicts(\"x\", [str.format(\"{0}\",i+1) for i in range(n)],lowBound = 0, upBound = 1, cat = \"Integer\")\n",
    "e = LpVariable(\"e\", lowBound = 0)\n",
    "\n",
    "prob  = LpProblem(\"parking\", LpMinimize) \n",
    "prob += e\n",
    "prob += lpSum([d[i]*   x[str.format(\"{0}\",i+1)]  for i in range(n)]) <= e\n",
    "prob += lpSum([d[i]*(1-x[str.format(\"{0}\",i+1)]) for i in range(n)]) <= e\n",
    "prob.solve()\n",
    "\n",
    "for v in prob.variables():\n",
    "    print(f\"La valeur de {v}: {pulp.value(v)}\")"
   ]
  },
  {
   "cell_type": "code",
   "execution_count": 12,
   "id": "a88a34f8",
   "metadata": {
    "scrolled": true
   },
   "outputs": [
    {
     "name": "stdout",
     "output_type": "stream",
     "text": [
      "Welcome to the CBC MILP Solver \n",
      "Version: 2.10.3 \n",
      "Build Date: Dec 15 2019 \n",
      "\n",
      "command line - /Users/abdellah/miniforge3/lib/python3.9/site-packages/pulp/solverdir/cbc/osx/64/cbc /var/folders/ll/f_v0rt1515j5wph8nq7kr35r0000gn/T/13ca4618a8f944c1aec60dc516d5039d-pulp.mps timeMode elapsed branch printingOptions all solution /var/folders/ll/f_v0rt1515j5wph8nq7kr35r0000gn/T/13ca4618a8f944c1aec60dc516d5039d-pulp.sol (default strategy 1)\n",
      "At line 2 NAME          MODEL\n",
      "At line 3 ROWS\n",
      "At line 7 COLUMNS\n",
      "At line 70 RHS\n",
      "At line 73 BOUNDS\n",
      "At line 89 ENDATA\n",
      "Problem MODEL has 2 rows, 16 columns and 31 elements\n",
      "Coin0008I MODEL read with 0 errors\n",
      "Option for timeMode changed from cpu to elapsed\n",
      "Continuous objective value is 42.1 - 0.00 seconds\n",
      "Cgl0004I processed model has 2 rows, 15 columns (14 integer (13 of which binary)) and 29 elements\n",
      "Cbc0038I Initial state - 1 integers unsatisfied sum - 0.26087\n",
      "Cbc0038I Pass   1: suminf.    0.12000 (1) obj. 42.1 iterations 1\n",
      "Cbc0038I Pass   2: suminf.    0.00000 (0) obj. 46.5 iterations 1\n",
      "Cbc0038I Solution found of 46.5\n",
      "Cbc0038I Relaxing continuous gives 42.1\n",
      "Cbc0038I Cleaned solution of 42.1\n",
      "Cbc0038I Before mini branch and bound, 12 integers at bound fixed and 0 continuous\n",
      "Cbc0038I Mini branch and bound did not improve solution (0.00 seconds)\n",
      "Cbc0038I After 0.00 seconds - Feasibility pump exiting with objective of 42.1 - took 0.00 seconds\n",
      "Cbc0012I Integer solution of 42.8 found by DiveCoefficient after 0 iterations and 0 nodes (0.00 seconds)\n",
      "Cbc0038I Full problem 2 rows 15 columns, reduced to 2 rows 3 columns\n",
      "Cbc0012I Integer solution of 42.1 found by DiveCoefficient after 27 iterations and 0 nodes (0.01 seconds)\n",
      "Cbc0031I 4 added rows had average density of 11.5\n",
      "Cbc0013I At root node, 4 cuts changed objective from 42.1 to 42.1 in 7 passes\n",
      "Cbc0014I Cut generator 0 (Probing) - 0 row cuts average 0.0 elements, 0 column cuts (0 active)  in 0.000 seconds - new frequency is -100\n",
      "Cbc0014I Cut generator 1 (Gomory) - 16 row cuts average 14.0 elements, 0 column cuts (0 active)  in 0.000 seconds - new frequency is -100\n",
      "Cbc0014I Cut generator 2 (Knapsack) - 5 row cuts average 6.8 elements, 0 column cuts (0 active)  in 0.000 seconds - new frequency is -100\n",
      "Cbc0014I Cut generator 3 (Clique) - 0 row cuts average 0.0 elements, 0 column cuts (0 active)  in 0.000 seconds - new frequency is -100\n",
      "Cbc0014I Cut generator 4 (MixedIntegerRounding2) - 15 row cuts average 12.5 elements, 0 column cuts (0 active)  in 0.000 seconds - new frequency is -100\n",
      "Cbc0014I Cut generator 5 (FlowCover) - 0 row cuts average 0.0 elements, 0 column cuts (0 active)  in 0.000 seconds - new frequency is -100\n",
      "Cbc0014I Cut generator 6 (TwoMirCuts) - 24 row cuts average 13.6 elements, 0 column cuts (0 active)  in 0.000 seconds - new frequency is -100\n",
      "Cbc0001I Search completed - best objective 42.1, took 27 iterations and 0 nodes (0.01 seconds)\n",
      "Cbc0035I Maximum depth 0, 0 variables fixed on reduced cost\n",
      "Cuts at root node changed objective from 42.1 to 42.1\n",
      "Probing was tried 7 times and created 0 cuts of which 0 were active after adding rounds of cuts (0.000 seconds)\n",
      "Gomory was tried 7 times and created 16 cuts of which 0 were active after adding rounds of cuts (0.000 seconds)\n",
      "Knapsack was tried 7 times and created 5 cuts of which 0 were active after adding rounds of cuts (0.000 seconds)\n",
      "Clique was tried 7 times and created 0 cuts of which 0 were active after adding rounds of cuts (0.000 seconds)\n",
      "MixedIntegerRounding2 was tried 7 times and created 15 cuts of which 0 were active after adding rounds of cuts (0.000 seconds)\n",
      "FlowCover was tried 7 times and created 0 cuts of which 0 were active after adding rounds of cuts (0.000 seconds)\n",
      "TwoMirCuts was tried 7 times and created 24 cuts of which 0 were active after adding rounds of cuts (0.000 seconds)\n",
      "ZeroHalf was tried 1 times and created 0 cuts of which 0 were active after adding rounds of cuts (0.000 seconds)\n",
      "\n",
      "Result - Optimal solution found\n",
      "\n",
      "Objective value:                42.10000000\n",
      "Enumerated nodes:               0\n",
      "Total iterations:               27\n",
      "Time (CPU seconds):             0.00\n",
      "Time (Wallclock seconds):       0.01\n",
      "\n",
      "Option for printingOptions changed from normal to all\n",
      "Total time (CPU seconds):       0.00   (Wallclock seconds):       0.01\n",
      "\n",
      "La valeur de e: 42.1\n",
      "La valeur de x_1: 1.0\n",
      "La valeur de x_10: 0.0\n",
      "La valeur de x_11: 0.0\n",
      "La valeur de x_12: 1.0\n",
      "La valeur de x_13: 1.0\n",
      "La valeur de x_14: 1.0\n",
      "La valeur de x_15: 1.0\n",
      "La valeur de x_2: 0.0\n",
      "La valeur de x_3: 1.0\n",
      "La valeur de x_4: 1.0\n",
      "La valeur de x_5: 1.0\n",
      "La valeur de x_6: 1.0\n",
      "La valeur de x_7: 0.0\n",
      "La valeur de x_8: 1.0\n",
      "La valeur de x_9: 1.0\n"
     ]
    }
   ],
   "source": [
    "n = 15\n",
    "d = [4, 4.5, 5, 4.1, 2.4, 5.2, 3.7, 3.5, 3.2, 4.5, 2.3, 3.3, 3.8, 4.6, 3]\n",
    "\n",
    "x = LpVariable.dicts(\"x\", [str.format(\"{0}\",i+1) for i in range(n)],lowBound = 0, upBound = 1, cat = \"Integer\")\n",
    "e = LpVariable(\"e\", lowBound = 0)\n",
    "\n",
    "prob  = LpProblem(\"parking\", LpMinimize) \n",
    "prob += e\n",
    "prob += lpSum([d[i]*   x[str.format(\"{0}\",i+1)]  for i in range(n)]) <= e\n",
    "prob += lpSum([d[i]*(1-x[str.format(\"{0}\",i+1)]) for i in range(n)]) <= 15\n",
    "prob.solve()\n",
    "\n",
    "for v in prob.variables():\n",
    "    print(f\"La valeur de {v}: {pulp.value(v)}\")"
   ]
  },
  {
   "cell_type": "code",
   "execution_count": 13,
   "id": "d5537ae4",
   "metadata": {},
   "outputs": [],
   "source": [
    "### 5.3"
   ]
  },
  {
   "cell_type": "code",
   "execution_count": 14,
   "id": "9166f2e1",
   "metadata": {
    "scrolled": true
   },
   "outputs": [
    {
     "name": "stdout",
     "output_type": "stream",
     "text": [
      "Welcome to the CBC MILP Solver \n",
      "Version: 2.10.3 \n",
      "Build Date: Dec 15 2019 \n",
      "\n",
      "command line - /Users/abdellah/miniforge3/lib/python3.9/site-packages/pulp/solverdir/cbc/osx/64/cbc /var/folders/ll/f_v0rt1515j5wph8nq7kr35r0000gn/T/e13450871aeb4ef1b05bcde79ff801c6-pulp.mps timeMode elapsed branch printingOptions all solution /var/folders/ll/f_v0rt1515j5wph8nq7kr35r0000gn/T/e13450871aeb4ef1b05bcde79ff801c6-pulp.sol (default strategy 1)\n",
      "At line 2 NAME          MODEL\n",
      "At line 3 ROWS\n",
      "At line 19 COLUMNS\n",
      "At line 204 RHS\n",
      "At line 219 BOUNDS\n",
      "At line 245 ENDATA\n",
      "Problem MODEL has 14 rows, 25 columns and 110 elements\n",
      "Coin0008I MODEL read with 0 errors\n",
      "Option for timeMode changed from cpu to elapsed\n",
      "Continuous objective value is 10000 - 0.00 seconds\n",
      "Cgl0004I processed model has 9 rows, 20 columns (20 integer (0 of which binary)) and 88 elements\n",
      "Cutoff increment increased from 1e-05 to 4.9999\n",
      "Cbc0012I Integer solution of 10000 found by DiveCoefficient after 0 iterations and 0 nodes (0.00 seconds)\n",
      "Cbc0001I Search completed - best objective 10000, took 0 iterations and 0 nodes (0.00 seconds)\n",
      "Cbc0035I Maximum depth 0, 0 variables fixed on reduced cost\n",
      "Cuts at root node changed objective from 10000 to 10000\n",
      "Probing was tried 0 times and created 0 cuts of which 0 were active after adding rounds of cuts (0.000 seconds)\n",
      "Gomory was tried 0 times and created 0 cuts of which 0 were active after adding rounds of cuts (0.000 seconds)\n",
      "Knapsack was tried 0 times and created 0 cuts of which 0 were active after adding rounds of cuts (0.000 seconds)\n",
      "Clique was tried 0 times and created 0 cuts of which 0 were active after adding rounds of cuts (0.000 seconds)\n",
      "MixedIntegerRounding2 was tried 0 times and created 0 cuts of which 0 were active after adding rounds of cuts (0.000 seconds)\n",
      "FlowCover was tried 0 times and created 0 cuts of which 0 were active after adding rounds of cuts (0.000 seconds)\n",
      "TwoMirCuts was tried 0 times and created 0 cuts of which 0 were active after adding rounds of cuts (0.000 seconds)\n",
      "ZeroHalf was tried 0 times and created 0 cuts of which 0 were active after adding rounds of cuts (0.000 seconds)\n",
      "\n",
      "Result - Optimal solution found\n",
      "\n",
      "Objective value:                10000.00000000\n",
      "Enumerated nodes:               0\n",
      "Total iterations:               0\n",
      "Time (CPU seconds):             0.00\n",
      "Time (Wallclock seconds):       0.00\n",
      "\n",
      "Option for printingOptions changed from normal to all\n",
      "Total time (CPU seconds):       0.00   (Wallclock seconds):       0.00\n",
      "\n",
      "La valeur de a_1: 0.0\n",
      "La valeur de a_2: 0.0\n",
      "La valeur de a_3: 0.0\n",
      "La valeur de a_4: 0.0\n",
      "La valeur de a_5: 160.0\n",
      "La valeur de a_6: 140.0\n",
      "La valeur de m_1: 5.0\n",
      "La valeur de m_2: 2.0\n",
      "La valeur de m_3: 0.0\n",
      "La valeur de m_4: 0.0\n",
      "La valeur de m_5: 0.0\n",
      "La valeur de m_6: 0.0\n",
      "La valeur de n_1: 0.0\n",
      "La valeur de n_2: 0.0\n",
      "La valeur de n_3: 0.0\n",
      "La valeur de n_4: 0.0\n",
      "La valeur de n_5: 0.0\n",
      "La valeur de n_6: 0.0\n",
      "La valeur de y_1: 0.0\n",
      "La valeur de y_2: 0.0\n",
      "La valeur de y_3: 60.0\n",
      "La valeur de y_4: 220.0\n",
      "La valeur de y_5: 80.0\n",
      "La valeur de y_6: 0.0\n",
      "La valeur de y_7: 0.0\n"
     ]
    }
   ],
   "source": [
    "k = 6\n",
    "l = 40\n",
    "d = [700, 600, 500, 800, 900, 800]\n",
    "\n",
    "y = LpVariable.dicts(\"y\", [str.format(\"{0}\",i+1) for i in range(k+1)],lowBound = 0, cat = \"Integer\")\n",
    "n = LpVariable.dicts(\"n\", [str.format(\"{0}\",i+1) for i in range(k)  ],lowBound = 0, upBound = 5, cat = \"Integer\")\n",
    "m = LpVariable.dicts(\"m\", [str.format(\"{0}\",i+1) for i in range(k)  ],lowBound = 0, upBound = 5, cat = \"Integer\")\n",
    "a = LpVariable.dicts(\"a\", [str.format(\"{0}\",i+1) for i in range(k)  ],lowBound = 0, cat = \"Integer\")\n",
    "\n",
    "prob  = LpProblem(\"production\", LpMinimize) \n",
    "prob += lpSum([500*n[str.format(\"{0}\",i+1)]+700*m[str.format(\"{0}\",i+1)]+10*y[str.format(\"{0}\",i+1)]+5*a[str.format(\"{0}\",i+1)] for i in range(k)])\n",
    "\n",
    "for i in range(1, k+1):\n",
    "    prob += y[str.format(\"{0}\",i+1)] == y[str.format(\"{0}\",i)] + 20*(l + lpSum([n[str.format(\"{0}\",j+1)]-m[str.format(\"{0}\",j+1)] for j in range(i)])) + a[str.format(\"{0}\",i)] - d[i-1]\n",
    "    prob += a[str.format(\"{0}\",i  )] <= 6*(l + lpSum([n[str.format(\"{0}\",j+1)]-m[str.format(\"{0}\",j+1)] for j in range(i)]))\n",
    "\n",
    "prob += y[\"1\"] == 0\n",
    "prob += y[\"7\"] == 0\n",
    "\n",
    "prob.solve()\n",
    "\n",
    "for v in prob.variables():\n",
    "    print(f\"La valeur de {v}: {pulp.value(v)}\")"
   ]
  },
  {
   "cell_type": "code",
   "execution_count": 15,
   "id": "ffeac44e",
   "metadata": {
    "scrolled": true
   },
   "outputs": [
    {
     "data": {
      "text/plain": [
       "<bound method LpProblem.variables of production:\n",
       "MINIMIZE\n",
       "5*a_1 + 5*a_2 + 5*a_3 + 5*a_4 + 5*a_5 + 5*a_6 + 700*m_1 + 700*m_2 + 700*m_3 + 700*m_4 + 700*m_5 + 700*m_6 + 500*n_1 + 500*n_2 + 500*n_3 + 500*n_4 + 500*n_5 + 500*n_6 + 10*y_1 + 10*y_2 + 10*y_3 + 10*y_4 + 10*y_5 + 10*y_6 + 0\n",
       "SUBJECT TO\n",
       "_C1: - a_1 + 20 m_1 - 20 n_1 - y_1 + y_2 = 100\n",
       "\n",
       "_C2: a_1 + 6 m_1 - 6 n_1 <= 240\n",
       "\n",
       "_C3: - a_2 + 20 m_1 + 20 m_2 - 20 n_1 - 20 n_2 - y_2 + y_3 = 200\n",
       "\n",
       "_C4: a_2 + 6 m_1 + 6 m_2 - 6 n_1 - 6 n_2 <= 240\n",
       "\n",
       "_C5: - a_3 + 20 m_1 + 20 m_2 + 20 m_3 - 20 n_1 - 20 n_2 - 20 n_3 - y_3 + y_4\n",
       " = 300\n",
       "\n",
       "_C6: a_3 + 6 m_1 + 6 m_2 + 6 m_3 - 6 n_1 - 6 n_2 - 6 n_3 <= 240\n",
       "\n",
       "_C7: - a_4 + 20 m_1 + 20 m_2 + 20 m_3 + 20 m_4 - 20 n_1 - 20 n_2 - 20 n_3\n",
       " - 20 n_4 - y_4 + y_5 = 0\n",
       "\n",
       "_C8: a_4 + 6 m_1 + 6 m_2 + 6 m_3 + 6 m_4 - 6 n_1 - 6 n_2 - 6 n_3 - 6 n_4\n",
       " <= 240\n",
       "\n",
       "_C9: - a_5 + 20 m_1 + 20 m_2 + 20 m_3 + 20 m_4 + 20 m_5 - 20 n_1 - 20 n_2\n",
       " - 20 n_3 - 20 n_4 - 20 n_5 - y_5 + y_6 = -100\n",
       "\n",
       "_C10: a_5 + 6 m_1 + 6 m_2 + 6 m_3 + 6 m_4 + 6 m_5 - 6 n_1 - 6 n_2 - 6 n_3\n",
       " - 6 n_4 - 6 n_5 <= 240\n",
       "\n",
       "_C11: - a_6 + 20 m_1 + 20 m_2 + 20 m_3 + 20 m_4 + 20 m_5 + 20 m_6 - 20 n_1\n",
       " - 20 n_2 - 20 n_3 - 20 n_4 - 20 n_5 - 20 n_6 - y_6 + y_7 = 0\n",
       "\n",
       "_C12: a_6 + 6 m_1 + 6 m_2 + 6 m_3 + 6 m_4 + 6 m_5 + 6 m_6 - 6 n_1 - 6 n_2\n",
       " - 6 n_3 - 6 n_4 - 6 n_5 - 6 n_6 <= 240\n",
       "\n",
       "_C13: y_1 = 0\n",
       "\n",
       "_C14: y_7 = 0\n",
       "\n",
       "VARIABLES\n",
       "0 <= a_1 Integer\n",
       "0 <= a_2 Integer\n",
       "0 <= a_3 Integer\n",
       "0 <= a_4 Integer\n",
       "0 <= a_5 Integer\n",
       "0 <= a_6 Integer\n",
       "0 <= m_1 <= 5 Integer\n",
       "0 <= m_2 <= 5 Integer\n",
       "0 <= m_3 <= 5 Integer\n",
       "0 <= m_4 <= 5 Integer\n",
       "0 <= m_5 <= 5 Integer\n",
       "0 <= m_6 <= 5 Integer\n",
       "0 <= n_1 <= 5 Integer\n",
       "0 <= n_2 <= 5 Integer\n",
       "0 <= n_3 <= 5 Integer\n",
       "0 <= n_4 <= 5 Integer\n",
       "0 <= n_5 <= 5 Integer\n",
       "0 <= n_6 <= 5 Integer\n",
       "0 <= y_1 Integer\n",
       "0 <= y_2 Integer\n",
       "0 <= y_3 Integer\n",
       "0 <= y_4 Integer\n",
       "0 <= y_5 Integer\n",
       "0 <= y_6 Integer\n",
       "0 <= y_7 Integer\n",
       ">"
      ]
     },
     "execution_count": 15,
     "metadata": {},
     "output_type": "execute_result"
    }
   ],
   "source": [
    "prob.variables"
   ]
  },
  {
   "cell_type": "markdown",
   "id": "f15b5377",
   "metadata": {},
   "source": [
    "### Graph"
   ]
  },
  {
   "cell_type": "code",
   "execution_count": 16,
   "id": "0f914ea1",
   "metadata": {},
   "outputs": [
    {
     "data": {
      "image/png": "[encoded data removed]",
      "text/plain": [
       "<Figure size 432x288 with 1 Axes>"
      ]
     },
     "metadata": {},
     "output_type": "display_data"
    }
   ],
   "source": [
    "G = nx.sedgewick_maze_graph()\n",
    "nx.draw(G, with_labels=True, font_weight='bold')"
   ]
  },
  {
   "cell_type": "markdown",
   "id": "15bb8c92",
   "metadata": {},
   "source": [
    "### Dynamic programming"
   ]
  },
  {
   "cell_type": "code",
   "execution_count": 17,
   "id": "1fad571f",
   "metadata": {},
   "outputs": [],
   "source": [
    "## PROBLEM 07–0274:"
   ]
  },
  {
   "cell_type": "code",
   "execution_count": 18,
   "id": "f8d82ff1",
   "metadata": {
    "scrolled": true
   },
   "outputs": [
    {
     "data": {
      "text/plain": [
       "{(1, 2): Text(0.5, 0.25, '4'),\n",
       " (1, 3): Text(0.5, -0.25, '2'),\n",
       " (2, 4): Text(1.5, 0.75, '6'),\n",
       " (2, 5): Text(1.5, 0.25, '3'),\n",
       " (2, 6): Text(1.5, -0.25, '4'),\n",
       " (3, 4): Text(1.5, 0.25, '3'),\n",
       " (3, 5): Text(1.5, -0.25, '4'),\n",
       " (3, 6): Text(1.5, -0.75, '2'),\n",
       " (4, 7): Text(2.5, 0.75, '2'),\n",
       " (4, 8): Text(2.5, 0.25, '6'),\n",
       " (5, 7): Text(2.5, 0.25, '6'),\n",
       " (5, 8): Text(2.5, -0.25, '2'),\n",
       " (6, 7): Text(2.5, -0.25, '3'),\n",
       " (6, 8): Text(2.5, -0.75, '5'),\n",
       " (7, 9): Text(3.5, 0.25, '2'),\n",
       " (8, 9): Text(3.5, -0.25, '5')}"
      ]
     },
     "execution_count": 18,
     "metadata": {},
     "output_type": "execute_result"
    },
    {
     "data": {
      "image/png": "[encoded data removed]",
      "text/plain": [
       "<Figure size 432x288 with 1 Axes>"
      ]
     },
     "metadata": {},
     "output_type": "display_data"
    }
   ],
   "source": [
    "G = nx.Graph().to_directed()\n",
    "weighted_edges = [(1, 2, 4), (1, 3, 2),\n",
    "                  (2, 4, 6), (2, 5, 3), (2, 6, 4),\n",
    "                  (3, 4, 3), (3, 5, 4), (3, 6, 2),\n",
    "                  (4, 7, 2), (4, 8, 6),\n",
    "                  (5, 7, 6), (5, 8, 2),\n",
    "                  (6, 7, 3), (6, 8, 5),\n",
    "                  (7, 9, 2), (8, 9, 5),\n",
    "                 ]\n",
    "G.add_weighted_edges_from(weighted_edges)\n",
    "edge_labels = nx.get_edge_attributes(G, \"weight\")\n",
    "l   = [[0, 0], [1, 0.5], [1,-0.5], [2, 1], [2, 0], [2,-1], [3, 0.5], [3,-0.5], [4, 0]]\n",
    "pos = nx.spring_layout(G) \n",
    "for k in range(9):\n",
    "    pos[k+1] = l[k]\n",
    "\n",
    "nx.draw_networkx_nodes(G, pos)\n",
    "nx.draw_networkx_edges(G, pos)\n",
    "nx.draw_networkx_labels(G, pos, font_family=\"sans-serif\")\n",
    "nx.draw_networkx_edge_labels(G, pos, edge_labels)"
   ]
  },
  {
   "cell_type": "code",
   "execution_count": 19,
   "id": "daccafca",
   "metadata": {
    "scrolled": true
   },
   "outputs": [
    {
     "name": "stderr",
     "output_type": "stream",
     "text": [
      "/var/folders/ll/f_v0rt1515j5wph8nq7kr35r0000gn/T/ipykernel_96200/3808062929.py:1: VisibleDeprecationWarning: Creating an ndarray from ragged nested sequences (which is a list-or-tuple of lists-or-tuples-or ndarrays with different lengths or shapes) is deprecated. If you meant to do this, you must specify 'dtype=object' when creating the ndarray.\n",
      "  stage = np.array([[1],[2,3],[4,5,6],[7,8],[9]])\n"
     ]
    },
    {
     "data": {
      "text/plain": [
       "21.0"
      ]
     },
     "execution_count": 19,
     "metadata": {},
     "output_type": "execute_result"
    }
   ],
   "source": [
    "stage = np.array([[1],[2,3],[4,5,6],[7,8],[9]])\n",
    "costs = np.zeros((9,9))\n",
    "for weighted_edge in weighted_edges:\n",
    "    costs[weighted_edge[0]-1,weighted_edge[1]-1] = weighted_edge[2]\n",
    "\n",
    "def v(i,k):\n",
    "    if i == 1 and k == 1:\n",
    "        return 0\n",
    "    elif k not in stage[i-1]:\n",
    "        return -np.inf\n",
    "    else :\n",
    "        l = [v(i-1,j)+costs[j-1,k-1] for j in stage[i-2]]\n",
    "        return max(l)\n",
    "    \n",
    "v(5,9)"
   ]
  },
  {
   "cell_type": "markdown",
   "id": "151b1142",
   "metadata": {},
   "source": [
    "### Branch and bound"
   ]
  },
  {
   "cell_type": "code",
   "execution_count": null,
   "id": "70f661c8",
   "metadata": {},
   "outputs": [],
   "source": []
  },
  {
   "cell_type": "code",
   "execution_count": null,
   "id": "1f3020f3",
   "metadata": {},
   "outputs": [],
   "source": []
  },
  {
   "cell_type": "markdown",
   "id": "1e606710",
   "metadata": {},
   "source": [
    "### Column generation"
   ]
  },
  {
   "cell_type": "code",
   "execution_count": 20,
   "id": "e0202c17",
   "metadata": {},
   "outputs": [],
   "source": [
    "D = [48, 35, 24, 10, 8 ] # Demand\n",
    "S = [20, 45, 50, 55, 75] # Width of the i-th roll\n",
    "W = 110 # Width\n",
    "m = len(D)\n",
    "k = 3   # length of I_0\n",
    "eps = 1e-3"
   ]
  },
  {
   "cell_type": "code",
   "execution_count": 21,
   "id": "a8a2091f",
   "metadata": {},
   "outputs": [],
   "source": [
    "def cuts(S,W):\n",
    "    if len(S) < 1:\n",
    "        return []\n",
    "    elif 0 < len(S) < 2:\n",
    "        return [[i] for i in range(int(W/S[-1])+1)]\n",
    "    else:\n",
    "        n = int(W/S[-1])+1 # maximum number of rolls that can be cut + 1\n",
    "        A = []\n",
    "        for i in range(n):\n",
    "            for cut in cuts(S[:-1], W-i*S[-1]):\n",
    "                A += [cut+[i]]\n",
    "        return A"
   ]
  },
  {
   "cell_type": "code",
   "execution_count": 22,
   "id": "b4c4b2f9",
   "metadata": {},
   "outputs": [],
   "source": [
    "A = cuts(S,W)\n",
    "I = range(len(A))"
   ]
  },
  {
   "cell_type": "code",
   "execution_count": 23,
   "id": "dfc2cc33",
   "metadata": {
    "scrolled": true
   },
   "outputs": [
    {
     "name": "stdout",
     "output_type": "stream",
     "text": [
      "Welcome to the CBC MILP Solver \n",
      "Version: 2.10.3 \n",
      "Build Date: Dec 15 2019 \n",
      "\n",
      "command line - /Users/abdellah/miniforge3/lib/python3.9/site-packages/pulp/solverdir/cbc/osx/64/cbc /var/folders/ll/f_v0rt1515j5wph8nq7kr35r0000gn/T/2103c5c715044fe6ad7170311021e189-pulp.mps max timeMode elapsed branch printingOptions all solution /var/folders/ll/f_v0rt1515j5wph8nq7kr35r0000gn/T/2103c5c715044fe6ad7170311021e189-pulp.sol (default strategy 1)\n",
      "At line 2 NAME          MODEL\n",
      "At line 3 ROWS\n",
      "At line 8 COLUMNS\n",
      "At line 21 RHS\n",
      "At line 25 BOUNDS\n",
      "At line 34 ENDATA\n",
      "Problem MODEL has 3 rows, 8 columns and 7 elements\n",
      "Coin0008I MODEL read with 0 errors\n",
      "Option for timeMode changed from cpu to elapsed\n",
      "Presolve 0 (-3) rows, 0 (-8) columns and 0 (-7) elements\n",
      "Empty problem - 0 rows, 0 columns and 0 elements\n",
      "Optimal - objective value 320059\n",
      "After Postsolve, objective 320059, infeasibilities - dual 0 (0), primal 0 (0)\n",
      "Optimal objective 320059 - 0 iterations time 0.002, Presolve 0.00\n",
      "Option for printingOptions changed from normal to all\n",
      "Total time (CPU seconds):       0.00   (Wallclock seconds):       0.00\n",
      "\n",
      "Welcome to the CBC MILP Solver \n",
      "Version: 2.10.3 \n",
      "Build Date: Dec 15 2019 \n",
      "\n",
      "command line - /Users/abdellah/miniforge3/lib/python3.9/site-packages/pulp/solverdir/cbc/osx/64/cbc /var/folders/ll/f_v0rt1515j5wph8nq7kr35r0000gn/T/501e32da1d074ea3a0c332a5f3113b38-pulp.mps max timeMode elapsed branch printingOptions all solution /var/folders/ll/f_v0rt1515j5wph8nq7kr35r0000gn/T/501e32da1d074ea3a0c332a5f3113b38-pulp.sol (default strategy 1)\n",
      "At line 2 NAME          MODEL\n",
      "At line 3 ROWS\n",
      "At line 9 COLUMNS\n",
      "At line 24 RHS\n",
      "At line 29 BOUNDS\n",
      "At line 39 ENDATA\n",
      "Problem MODEL has 4 rows, 9 columns and 9 elements\n",
      "Coin0008I MODEL read with 0 errors\n",
      "Option for timeMode changed from cpu to elapsed\n",
      "Presolve 0 (-4) rows, 0 (-9) columns and 0 (-9) elements\n",
      "Empty problem - 0 rows, 0 columns and 0 elements\n",
      "Optimal - objective value 80071\n",
      "After Postsolve, objective 80071, infeasibilities - dual 0 (0), primal 0 (0)\n",
      "Optimal objective 80071 - 0 iterations time 0.002, Presolve 0.00\n",
      "Option for printingOptions changed from normal to all\n",
      "Total time (CPU seconds):       0.00   (Wallclock seconds):       0.00\n",
      "\n",
      "Welcome to the CBC MILP Solver \n",
      "Version: 2.10.3 \n",
      "Build Date: Dec 15 2019 \n",
      "\n",
      "command line - /Users/abdellah/miniforge3/lib/python3.9/site-packages/pulp/solverdir/cbc/osx/64/cbc /var/folders/ll/f_v0rt1515j5wph8nq7kr35r0000gn/T/d0629c2349b14ac59e8ae90f93e51042-pulp.mps max timeMode elapsed branch printingOptions all solution /var/folders/ll/f_v0rt1515j5wph8nq7kr35r0000gn/T/d0629c2349b14ac59e8ae90f93e51042-pulp.sol (default strategy 1)\n",
      "At line 2 NAME          MODEL\n",
      "At line 3 ROWS\n",
      "At line 10 COLUMNS\n",
      "At line 28 RHS\n",
      "At line 34 BOUNDS\n",
      "At line 45 ENDATA\n",
      "Problem MODEL has 5 rows, 10 columns and 12 elements\n",
      "Coin0008I MODEL read with 0 errors\n",
      "Option for timeMode changed from cpu to elapsed\n",
      "Presolve 0 (-5) rows, 0 (-10) columns and 0 (-12) elements\n",
      "Empty problem - 0 rows, 0 columns and 0 elements\n",
      "Optimal - objective value 75\n",
      "After Postsolve, objective 75, infeasibilities - dual 0 (0), primal 0 (0)\n",
      "Optimal objective 75 - 0 iterations time 0.002, Presolve 0.00\n",
      "Option for printingOptions changed from normal to all\n",
      "Total time (CPU seconds):       0.00   (Wallclock seconds):       0.00\n",
      "\n",
      "Welcome to the CBC MILP Solver \n",
      "Version: 2.10.3 \n",
      "Build Date: Dec 15 2019 \n",
      "\n",
      "command line - /Users/abdellah/miniforge3/lib/python3.9/site-packages/pulp/solverdir/cbc/osx/64/cbc /var/folders/ll/f_v0rt1515j5wph8nq7kr35r0000gn/T/5fcaf9cf80b64d4598be8cfbe59c0592-pulp.mps max timeMode elapsed branch printingOptions all solution /var/folders/ll/f_v0rt1515j5wph8nq7kr35r0000gn/T/5fcaf9cf80b64d4598be8cfbe59c0592-pulp.sol (default strategy 1)\n",
      "At line 2 NAME          MODEL\n",
      "At line 3 ROWS\n",
      "At line 11 COLUMNS\n",
      "At line 31 RHS\n",
      "At line 38 BOUNDS\n",
      "At line 50 ENDATA\n",
      "Problem MODEL has 6 rows, 11 columns and 14 elements\n",
      "Coin0008I MODEL read with 0 errors\n",
      "Option for timeMode changed from cpu to elapsed\n",
      "Presolve 0 (-6) rows, 0 (-11) columns and 0 (-14) elements\n",
      "Empty problem - 0 rows, 0 columns and 0 elements\n",
      "Optimal - objective value 63\n",
      "After Postsolve, objective 63, infeasibilities - dual 0 (0), primal 0 (0)\n",
      "Optimal objective 63 - 0 iterations time 0.002, Presolve 0.00\n",
      "Option for printingOptions changed from normal to all\n",
      "Total time (CPU seconds):       0.00   (Wallclock seconds):       0.00\n",
      "\n",
      "Welcome to the CBC MILP Solver \n",
      "Version: 2.10.3 \n",
      "Build Date: Dec 15 2019 \n",
      "\n",
      "command line - /Users/abdellah/miniforge3/lib/python3.9/site-packages/pulp/solverdir/cbc/osx/64/cbc /var/folders/ll/f_v0rt1515j5wph8nq7kr35r0000gn/T/80405f1a8d9745fa92bc783152ae39ae-pulp.mps max timeMode elapsed branch printingOptions all solution /var/folders/ll/f_v0rt1515j5wph8nq7kr35r0000gn/T/80405f1a8d9745fa92bc783152ae39ae-pulp.sol (default strategy 1)\n",
      "At line 2 NAME          MODEL\n",
      "At line 3 ROWS\n",
      "At line 12 COLUMNS\n",
      "At line 35 RHS\n",
      "At line 43 BOUNDS\n",
      "At line 56 ENDATA\n",
      "Problem MODEL has 7 rows, 12 columns and 17 elements\n",
      "Coin0008I MODEL read with 0 errors\n",
      "Option for timeMode changed from cpu to elapsed\n",
      "Presolve 0 (-7) rows, 0 (-12) columns and 0 (-17) elements\n",
      "Empty problem - 0 rows, 0 columns and 0 elements\n",
      "Optimal - objective value 48\n",
      "After Postsolve, objective 48, infeasibilities - dual 0 (0), primal 0 (0)\n",
      "Optimal objective 48 - 0 iterations time 0.002, Presolve 0.00\n",
      "Option for printingOptions changed from normal to all\n",
      "Total time (CPU seconds):       0.00   (Wallclock seconds):       0.00\n",
      "\n",
      "Welcome to the CBC MILP Solver \n",
      "Version: 2.10.3 \n",
      "Build Date: Dec 15 2019 \n",
      "\n",
      "command line - /Users/abdellah/miniforge3/lib/python3.9/site-packages/pulp/solverdir/cbc/osx/64/cbc /var/folders/ll/f_v0rt1515j5wph8nq7kr35r0000gn/T/2fb259be7b924030a3904aa28b0164ee-pulp.mps max timeMode elapsed branch printingOptions all solution /var/folders/ll/f_v0rt1515j5wph8nq7kr35r0000gn/T/2fb259be7b924030a3904aa28b0164ee-pulp.sol (default strategy 1)\n",
      "At line 2 NAME          MODEL\n",
      "At line 3 ROWS\n",
      "At line 13 COLUMNS\n",
      "At line 38 RHS\n",
      "At line 47 BOUNDS\n",
      "At line 61 ENDATA\n",
      "Problem MODEL has 8 rows, 13 columns and 19 elements\n",
      "Coin0008I MODEL read with 0 errors\n",
      "Option for timeMode changed from cpu to elapsed\n",
      "Presolve 2 (-6) rows, 3 (-10) columns and 4 (-15) elements\n",
      "0  Obj 33 Dual inf 34.999999 (1)\n",
      "1  Obj 47\n",
      "Optimal - objective value 47\n",
      "After Postsolve, objective 47, infeasibilities - dual 0 (0), primal 0 (0)\n",
      "Optimal objective 47 - 1 iterations time 0.002, Presolve 0.00\n",
      "Option for printingOptions changed from normal to all\n",
      "Total time (CPU seconds):       0.00   (Wallclock seconds):       0.00\n",
      "\n",
      "Welcome to the CBC MILP Solver \n",
      "Version: 2.10.3 \n",
      "Build Date: Dec 15 2019 \n",
      "\n",
      "command line - /Users/abdellah/miniforge3/lib/python3.9/site-packages/pulp/solverdir/cbc/osx/64/cbc /var/folders/ll/f_v0rt1515j5wph8nq7kr35r0000gn/T/92a7c26dfe4a4a4b8226b84866963f5e-pulp.mps max timeMode elapsed branch printingOptions all solution /var/folders/ll/f_v0rt1515j5wph8nq7kr35r0000gn/T/92a7c26dfe4a4a4b8226b84866963f5e-pulp.sol (default strategy 1)\n",
      "At line 2 NAME          MODEL\n",
      "At line 3 ROWS\n",
      "At line 14 COLUMNS\n",
      "At line 42 RHS\n",
      "At line 52 BOUNDS\n",
      "At line 67 ENDATA\n",
      "Problem MODEL has 9 rows, 14 columns and 22 elements\n",
      "Coin0008I MODEL read with 0 errors\n",
      "Option for timeMode changed from cpu to elapsed\n",
      "Presolve 3 (-6) rows, 4 (-10) columns and 6 (-16) elements\n",
      "0  Obj 33 Primal inf 0.13382538 (1) Dual inf 9.9206835 (1)\n",
      "2  Obj 46.25\n",
      "Optimal - objective value 46.25\n",
      "After Postsolve, objective 46.25, infeasibilities - dual 0 (0), primal 0 (0)\n",
      "Optimal objective 46.25 - 2 iterations time 0.002, Presolve 0.00\n",
      "Option for printingOptions changed from normal to all\n",
      "Total time (CPU seconds):       0.00   (Wallclock seconds):       0.00\n",
      "\n",
      "Welcome to the CBC MILP Solver \n",
      "Version: 2.10.3 \n",
      "Build Date: Dec 15 2019 \n",
      "\n",
      "command line - /Users/abdellah/miniforge3/lib/python3.9/site-packages/pulp/solverdir/cbc/osx/64/cbc /var/folders/ll/f_v0rt1515j5wph8nq7kr35r0000gn/T/bcfa4e93bbfd4e1ea0202abea74f2cb2-pulp.mps timeMode elapsed branch printingOptions all solution /var/folders/ll/f_v0rt1515j5wph8nq7kr35r0000gn/T/bcfa4e93bbfd4e1ea0202abea74f2cb2-pulp.sol (default strategy 1)\n",
      "At line 2 NAME          MODEL\n",
      "At line 3 ROWS\n",
      "At line 10 COLUMNS\n",
      "At line 51 RHS\n",
      "At line 57 BOUNDS\n",
      "At line 67 ENDATA\n",
      "Problem MODEL has 5 rows, 9 columns and 13 elements\n",
      "Coin0008I MODEL read with 0 errors\n",
      "Option for timeMode changed from cpu to elapsed\n",
      "Continuous objective value is 46.25 - 0.00 seconds\n",
      "Cgl0004I processed model has 4 rows, 9 columns (9 integer (0 of which binary)) and 12 elements\n",
      "Cutoff increment increased from 1e-05 to 0.9999\n",
      "Cbc0012I Integer solution of 48 found by greedy cover after 0 iterations and 0 nodes (0.00 seconds)\n",
      "Cbc0012I Integer solution of 47 found by DiveCoefficient after 0 iterations and 0 nodes (0.00 seconds)\n",
      "Cbc0001I Search completed - best objective 47, took 1 iterations and 0 nodes (0.00 seconds)\n",
      "Cbc0035I Maximum depth 0, 2 variables fixed on reduced cost\n",
      "Cuts at root node changed objective from 46.25 to 46.6667\n",
      "Probing was tried 0 times and created 0 cuts of which 0 were active after adding rounds of cuts (0.000 seconds)\n",
      "Gomory was tried 0 times and created 0 cuts of which 0 were active after adding rounds of cuts (0.000 seconds)\n",
      "Knapsack was tried 0 times and created 0 cuts of which 0 were active after adding rounds of cuts (0.000 seconds)\n",
      "Clique was tried 0 times and created 0 cuts of which 0 were active after adding rounds of cuts (0.000 seconds)\n",
      "MixedIntegerRounding2 was tried 0 times and created 0 cuts of which 0 were active after adding rounds of cuts (0.000 seconds)\n",
      "FlowCover was tried 0 times and created 0 cuts of which 0 were active after adding rounds of cuts (0.000 seconds)\n",
      "TwoMirCuts was tried 0 times and created 0 cuts of which 0 were active after adding rounds of cuts (0.000 seconds)\n",
      "ZeroHalf was tried 0 times and created 0 cuts of which 0 were active after adding rounds of cuts (0.000 seconds)\n",
      "\n",
      "Result - Optimal solution found\n",
      "\n",
      "Objective value:                47.00000000\n",
      "Enumerated nodes:               0\n",
      "Total iterations:               1\n",
      "Time (CPU seconds):             0.00\n",
      "Time (Wallclock seconds):       0.00\n",
      "\n",
      "Option for printingOptions changed from normal to all\n",
      "Total time (CPU seconds):       0.00   (Wallclock seconds):       0.00\n",
      "\n",
      "La valeur de x_11: 18.0\n",
      "La valeur de x_15: 8.0\n",
      "La valeur de x_17: 8.0\n",
      "La valeur de x_2: 0.0\n",
      "La valeur de x_21: 0.0\n",
      "La valeur de x_23: 5.0\n",
      "La valeur de x_25: 8.0\n",
      "La valeur de x_5: 0.0\n",
      "La valeur de x_6: 0.0\n"
     ]
    }
   ],
   "source": [
    "x = LpVariable.dicts(\"x\", [str.format(\"{0}\",i) for i in I], lowBound = 0, upBound = 100, cat = \"Integer\")\n",
    "s = LpVariable.dicts(\"s\", [str.format(\"{0}\",i) for i in I], lowBound = 0, upBound = 10000)\n",
    "l = LpVariable.dicts(\"l\", [str.format(\"{0}\",i) for i in range(m)], lowBound = 0, upBound = 10000)\n",
    "\n",
    "solution = []\n",
    "I_0 = random.sample(I, k)\n",
    "\n",
    "while True:\n",
    "    \n",
    "    optimal = True\n",
    "    \n",
    "    dual  = LpProblem(\"Dual\", LpMaximize) \n",
    "    dual += lpSum([D[i]*l[str.format(\"{0}\",i)] for i in range(m)])\n",
    "\n",
    "    for j in I_0:\n",
    "        dual += lpSum([A[j][i]*l[str.format(\"{0}\",i)] for i in range(m)]) == 1 - s[str.format(\"{0}\",j)]\n",
    "    dual.solve()  \n",
    "    \n",
    "    for j in I:\n",
    "        sub_solution = 1 - sum([A[j][i]*value(l[str.format(\"{0}\",i)]) for i in range(m)])\n",
    "        if sub_solution < - eps:\n",
    "            optimal = False\n",
    "            solution += [[j, sub_solution]]\n",
    "\n",
    "    if optimal:\n",
    "        break\n",
    "    \n",
    "    else:\n",
    "        solution = sorted(solution, key = lambda t: t[1])\n",
    "        I_0 += [solution[0][0]]\n",
    "        solution = []\n",
    "        \n",
    "primal  = LpProblem(\"Primal\", LpMinimize)\n",
    "primal += lpSum([x[str.format(\"{0}\",i)] for i in I_0])\n",
    "                                                                                      \n",
    "for i in range(m):\n",
    "    primal += lpSum([A[j][i]*x[str.format(\"{0}\",j)] for j in I_0]) >= D[i]\n",
    "                     \n",
    "primal.solve()\n",
    "\n",
    "for v in primal.variables():\n",
    "    print(f\"La valeur de {v}: {pulp.value(v)}\")"
   ]
  },
  {
   "cell_type": "code",
   "execution_count": 24,
   "id": "72a0ebd4",
   "metadata": {},
   "outputs": [
    {
     "name": "stdout",
     "output_type": "stream",
     "text": [
      "[2, 0, 0, 0, 0] - 0.0\n",
      "[0, 1, 0, 0, 0] - 0.0\n",
      "[0, 1, 0, 1, 0] - 0.0\n",
      "[0, 0, 2, 0, 0] - 8.0\n",
      "[1, 0, 0, 0, 1] - 8.0\n",
      "[5, 0, 0, 0, 0] - 0.0\n",
      "[1, 2, 0, 0, 0] - 18.0\n",
      "[0, 0, 0, 2, 0] - 5.0\n",
      "[3, 0, 1, 0, 0] - 8.0\n"
     ]
    }
   ],
   "source": [
    "for i in I_0:\n",
    "    print(A[i], \"-\", value(x[str.format(\"{0}\",i)]))"
   ]
  },
  {
   "cell_type": "markdown",
   "id": "1aa7693c",
   "metadata": {},
   "source": [
    "### Dynamic programming"
   ]
  },
  {
   "cell_type": "code",
   "execution_count": 25,
   "id": "b6b6c444",
   "metadata": {},
   "outputs": [],
   "source": [
    "def sub(A,B):\n",
    "    if len(A)*len(B)<1:\n",
    "        return 0\n",
    "    else:\n",
    "        if A[0] == B[0]:\n",
    "            return 1+sub(A[1:],B[1:])\n",
    "        return max(sub(A[1:],B),sub(A,B[1:]))"
   ]
  },
  {
   "cell_type": "code",
   "execution_count": 26,
   "id": "8120c8cd",
   "metadata": {},
   "outputs": [
    {
     "data": {
      "text/plain": [
       "4"
      ]
     },
     "execution_count": 26,
     "metadata": {},
     "output_type": "execute_result"
    }
   ],
   "source": [
    "sub(\"ABCBDAB\",\"BDCABA\")"
   ]
  },
  {
   "cell_type": "code",
   "execution_count": 27,
   "id": "2c203224",
   "metadata": {},
   "outputs": [],
   "source": [
    "def sup(A,B):\n",
    "    return len(A)+len(B)-sub(A,B)"
   ]
  },
  {
   "cell_type": "code",
   "execution_count": 28,
   "id": "2a59cf1e",
   "metadata": {},
   "outputs": [
    {
     "data": {
      "text/plain": [
       "9"
      ]
     },
     "execution_count": 28,
     "metadata": {},
     "output_type": "execute_result"
    }
   ],
   "source": [
    "sup(\"ABCBDAB\",\"BDCABA\")"
   ]
  },
  {
   "cell_type": "code",
   "execution_count": 29,
   "id": "57dbe342",
   "metadata": {},
   "outputs": [],
   "source": [
    "def inc(A, i, n, x):\n",
    "    if n < i + 1:\n",
    "        return 0\n",
    "    else:\n",
    "        a = 0\n",
    "        if A[i] >= x:\n",
    "            a = 1 + inc(A, i+1, n, A[i])\n",
    "        b = inc(A, i+1, n, x)\n",
    "    return max(a, b)"
   ]
  },
  {
   "cell_type": "code",
   "execution_count": 30,
   "id": "25c608a0",
   "metadata": {},
   "outputs": [
    {
     "data": {
      "text/plain": [
       "6"
      ]
     },
     "execution_count": 30,
     "metadata": {},
     "output_type": "execute_result"
    }
   ],
   "source": [
    "A = [0, 8, 4, 12, 2, 10, 6, 14, 1, 9, 5, 13, 3, 11, 7, 15]\n",
    "n = len(A)\n",
    "inc(A, 0, n, A[0])"
   ]
  },
  {
   "cell_type": "code",
   "execution_count": 31,
   "id": "56f72327",
   "metadata": {},
   "outputs": [],
   "source": [
    "def leven(A,B):\n",
    "    d = sub(A,B)\n",
    "    return max(len(A)-d, len(B)-d)"
   ]
  },
  {
   "cell_type": "code",
   "execution_count": 32,
   "id": "37f044e3",
   "metadata": {},
   "outputs": [
    {
     "data": {
      "text/plain": [
       "4"
      ]
     },
     "execution_count": 32,
     "metadata": {},
     "output_type": "execute_result"
    }
   ],
   "source": [
    "leven(\"kitten\", \"setting\")"
   ]
  },
  {
   "cell_type": "code",
   "execution_count": 33,
   "id": "1fe7fade",
   "metadata": {},
   "outputs": [
    {
     "data": {
      "text/plain": [
       "[(12, 12), (13, 12), (14, 53)]"
      ]
     },
     "execution_count": 33,
     "metadata": {},
     "output_type": "execute_result"
    }
   ],
   "source": [
    "[(12,12),(13,12)]+[(14,53)]"
   ]
  },
  {
   "cell_type": "code",
   "execution_count": 34,
   "id": "f38df953",
   "metadata": {},
   "outputs": [],
   "source": [
    "def mult(l):\n",
    "    if len(l)<1:\n",
    "        return 0\n",
    "    elif 1 < len(l) < 3:\n",
    "        return l[0][0]*l[0][1]*l[1][1]\n",
    "    return  min(l[0][0]*l[0][1]*l[1][1]+mult([[l[0][0],l[1][1]]]+l[2:]),l[1][0]*l[1][1]*l[2][1]+mult([l[0]]+[[l[1][0],l[2][1]]]+l[3:]))"
   ]
  },
  {
   "cell_type": "code",
   "execution_count": 35,
   "id": "f30fd81c",
   "metadata": {},
   "outputs": [
    {
     "data": {
      "text/plain": [
       "4500"
      ]
     },
     "execution_count": 35,
     "metadata": {},
     "output_type": "execute_result"
    }
   ],
   "source": [
    "l = [[10, 30], [30,5], [5, 60]] \n",
    "mult(l)"
   ]
  },
  {
   "cell_type": "code",
   "execution_count": 36,
   "id": "7e963776",
   "metadata": {},
   "outputs": [],
   "source": [
    "def Knapsack(k, v, w, W):\n",
    "    if k < 1:\n",
    "        if w[k] < W: \n",
    "            return v[k]\n",
    "        return 0\n",
    "    else:\n",
    "        a = 0\n",
    "        if w[k] < W:\n",
    "            a = Knapsack(k-1, v, w, W - w[k]) + v[k]\n",
    "        b = Knapsack(k-1, v, w, W)\n",
    "    return max(a,b)"
   ]
  },
  {
   "cell_type": "code",
   "execution_count": 37,
   "id": "fd037ae7",
   "metadata": {},
   "outputs": [
    {
     "data": {
      "text/plain": [
       "60"
      ]
     },
     "execution_count": 37,
     "metadata": {},
     "output_type": "execute_result"
    }
   ],
   "source": [
    "v = [20, 5, 10, 40, 15, 25]\n",
    "w = [ 1, 2,  3,  8,  7,  4]\n",
    "W = 10\n",
    "Knapsack(5, v, w, W)"
   ]
  },
  {
   "cell_type": "code",
   "execution_count": 38,
   "id": "3638d67e",
   "metadata": {},
   "outputs": [],
   "source": [
    "def subpart(S, n, k):\n",
    "    if sum(S[:n]) < k or k < 0:\n",
    "        return False\n",
    "    elif sum(S[:n]) == k:\n",
    "        return True\n",
    "    else:\n",
    "        a = False\n",
    "        if S[n] < k:\n",
    "            a = a or subpart(S, n-1, k-S[n])\n",
    "        b = subpart(S, n-1, k)\n",
    "        return a or b\n",
    "    \n",
    "def partition(S):\n",
    "    n = sum(S)\n",
    "    if n % 2 > 0:\n",
    "        return False\n",
    "    return subpart(S, len(S)-1, n/2)"
   ]
  },
  {
   "cell_type": "code",
   "execution_count": 39,
   "id": "986dd060",
   "metadata": {},
   "outputs": [
    {
     "data": {
      "text/plain": [
       "True"
      ]
     },
     "execution_count": 39,
     "metadata": {},
     "output_type": "execute_result"
    }
   ],
   "source": [
    "S = [3, 1, 1, 2, 2, 1]\n",
    "partition(S)"
   ]
  },
  {
   "cell_type": "code",
   "execution_count": 42,
   "id": "9514ca0d",
   "metadata": {},
   "outputs": [],
   "source": [
    "def rod(length, prices, rodlength):\n",
    "    table = [[0 for i in range(rodlength)] for price in prices]\n",
    "    for j in range(rodlength):\n",
    "        table[0][j] = prices[0]*((j+1)//length[0])\n",
    "    for i in range(1,len(prices)):\n",
    "        for j in range(rodlength):\n",
    "            if length[i] <= j+1:\n",
    "                table[i][j] = table[i][j+1-length[i]]+prices[i]\n",
    "            else:\n",
    "                table[i][j] = table[i-1][j]\n",
    "    return table[-1][-1]"
   ]
  },
  {
   "cell_type": "code",
   "execution_count": 43,
   "id": "5b23ea55",
   "metadata": {},
   "outputs": [
    {
     "data": {
      "text/plain": [
       "10"
      ]
     },
     "execution_count": 43,
     "metadata": {},
     "output_type": "execute_result"
    }
   ],
   "source": [
    "length = [1, 2, 3, 4, 5, 6, 7, 8]\n",
    "prices = [1, 5, 8, 9, 10, 17, 17, 20]\n",
    "rodlength = 4\n",
    "rod(length, prices, rodlength)"
   ]
  },
  {
   "cell_type": "code",
   "execution_count": 44,
   "id": "55f08bcb",
   "metadata": {},
   "outputs": [],
   "source": [
    "def coin(S, k):\n",
    "    if k in S:\n",
    "        return 1\n",
    "    else: \n",
    "        return 1+min([coin(S, k-l) for l in S if l < k])"
   ]
  },
  {
   "cell_type": "code",
   "execution_count": 45,
   "id": "e3137782",
   "metadata": {},
   "outputs": [
    {
     "data": {
      "text/plain": [
       "3"
      ]
     },
     "execution_count": 45,
     "metadata": {},
     "output_type": "execute_result"
    }
   ],
   "source": [
    "coin({ 1, 3, 5, 7 }, 15)"
   ]
  },
  {
   "cell_type": "code",
   "execution_count": 46,
   "id": "b7cfbee1",
   "metadata": {},
   "outputs": [],
   "source": [
    "def gold(player, l):\n",
    "    if len(l) < 2:\n",
    "        return l[0]\n",
    "    return max(-v(1-player, l[:-1])+l[-1], -v(1-player, l[1:]))"
   ]
  },
  {
   "cell_type": "code",
   "execution_count": null,
   "id": "995dc671",
   "metadata": {},
   "outputs": [],
   "source": []
  }
 ],
 "metadata": {
  "kernelspec": {
   "display_name": "Python 3 (ipykernel)",
   "language": "python",
   "name": "python3"
  },
  "language_info": {
   "codemirror_mode": {
    "name": "ipython",
    "version": 3
   },
   "file_extension": ".py",
   "mimetype": "text/x-python",
   "name": "python",
   "nbconvert_exporter": "python",
   "pygments_lexer": "ipython3",
   "version": "3.9.13"
  }
 },
 "nbformat": 4,
 "nbformat_minor": 5
}
