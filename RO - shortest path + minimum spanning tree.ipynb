{
 "cells": [
  {
   "cell_type": "code",
   "execution_count": 1,
   "id": "b6d11fd8",
   "metadata": {},
   "outputs": [],
   "source": [
    "import numpy as np\n",
    "import numpy.random as rand\n",
    "import networkx as nx\n",
    "import time\n",
    "import matplotlib.pyplot as plt\n",
    "from pulp import LpVariable, lpSum, LpProblem, LpMaximize, LpMinimize, value\n",
    "from queue import PriorityQueue"
   ]
  },
  {
   "cell_type": "markdown",
   "id": "019fd168",
   "metadata": {},
   "source": [
    "# Shortest Path"
   ]
  },
  {
   "cell_type": "markdown",
   "id": "bf45e998",
   "metadata": {},
   "source": [
    "## Graph"
   ]
  },
  {
   "cell_type": "code",
   "execution_count": 2,
   "id": "1fe0afff",
   "metadata": {},
   "outputs": [],
   "source": [
    "class Graph:\n",
    "    def __init__(self, n):\n",
    "        self.v = n\n",
    "        self.max = 0\n",
    "        self.edges = [[-1 for i in range(n)] for j in range(n)]\n",
    "        self.Edges = []\n",
    "        self.visited = []\n",
    "        self.S = [[] for v in range(n)]\n",
    "        self.P = [[] for v in range(n)]\n",
    "        \n",
    "    def addEdge(self, u, v, weight, undirected = False):\n",
    "        self.max = max(self.max, weight)\n",
    "        self.edges[u][v] = weight\n",
    "        self.Edges += [(u,v)]\n",
    "        self.S[u] += [v]\n",
    "        self.P[v] += [u]\n",
    "        \n",
    "        if undirected:\n",
    "            self.edges[v][u] = weight\n",
    "            self.Edges += [(v,u)]\n",
    "            self.S[v] += [u]\n",
    "            self.P[u] += [v]\n",
    "            \n",
    "    def render(self):\n",
    "        pass"
   ]
  },
  {
   "cell_type": "code",
   "execution_count": 3,
   "id": "77562e4a",
   "metadata": {},
   "outputs": [],
   "source": [
    "def backTO(P, source, target):\n",
    "    string = str(target)\n",
    "    \n",
    "    while target != source:\n",
    "        string = str(P[target]) + \" -> \" + string\n",
    "        target = P[target]\n",
    "        \n",
    "    return string"
   ]
  },
  {
   "cell_type": "markdown",
   "id": "8413e0ab",
   "metadata": {},
   "source": [
    "## Dijkstra's algorithm"
   ]
  },
  {
   "cell_type": "code",
   "execution_count": 4,
   "id": "5086edb5",
   "metadata": {},
   "outputs": [
    {
     "name": "stdout",
     "output_type": "stream",
     "text": [
      "CPU times: user 5 µs, sys: 1e+03 ns, total: 6 µs\n",
      "Wall time: 8.11 µs\n"
     ]
    }
   ],
   "source": [
    "%%time\n",
    "def dijkstra(graph, source):\n",
    "    D = {v:float('inf') for v in range(graph.v)}\n",
    "    D[source] = 0\n",
    "    P = {v:\"UNDEFINED\"  for v in range(graph.v)}\n",
    "    pq = PriorityQueue()\n",
    "    pq.put((0, source))\n",
    "\n",
    "    while not pq.empty():\n",
    "        (dist, currentVertex) = pq.get()\n",
    "        graph.visited.append(currentVertex)\n",
    "        for neighbor in graph.S[currentVertex]:\n",
    "            distance = graph.edges[currentVertex][neighbor]\n",
    "            if neighbor not in graph.visited:\n",
    "                old = D[neighbor]\n",
    "                new = D[currentVertex] + distance\n",
    "                if new < old:\n",
    "                    pq.put((new, neighbor))\n",
    "                    D[neighbor] = new\n",
    "                    P[neighbor] = currentVertex\n",
    "    return D, P"
   ]
  },
  {
   "cell_type": "code",
   "execution_count": 5,
   "id": "e66146af",
   "metadata": {},
   "outputs": [],
   "source": [
    "graph = Graph(6)\n",
    "graph.addEdge(0,1,2)\n",
    "graph.addEdge(0,2,4)\n",
    "graph.addEdge(1,3,3)\n",
    "graph.addEdge(2,4,2)\n",
    "graph.addEdge(2,5,1)\n",
    "graph.addEdge(3,4,0)\n",
    "graph.addEdge(4,1,8)\n",
    "graph.addEdge(4,5,5)\n",
    "graph.addEdge(5,3,3)"
   ]
  },
  {
   "cell_type": "code",
   "execution_count": 6,
   "id": "7e3f2284",
   "metadata": {},
   "outputs": [],
   "source": [
    "D, P = dijkstra(graph, 0)"
   ]
  },
  {
   "cell_type": "code",
   "execution_count": 7,
   "id": "e7f4f0d3",
   "metadata": {},
   "outputs": [
    {
     "data": {
      "text/plain": [
       "'0 -> 2 -> 5'"
      ]
     },
     "execution_count": 7,
     "metadata": {},
     "output_type": "execute_result"
    }
   ],
   "source": [
    "backTO(P, 0, 5)"
   ]
  },
  {
   "cell_type": "markdown",
   "id": "c964287c",
   "metadata": {},
   "source": [
    "## A* search"
   ]
  },
  {
   "cell_type": "code",
   "execution_count": 8,
   "id": "3ed5e105",
   "metadata": {},
   "outputs": [],
   "source": [
    "def h(x, graph):\n",
    "    \n",
    "    if x in graph.visited:\n",
    "        return 0\n",
    "    \n",
    "    return (graph.v - len(graph.visited)+1)*graph.max"
   ]
  },
  {
   "cell_type": "code",
   "execution_count": 9,
   "id": "4eedade0",
   "metadata": {},
   "outputs": [
    {
     "name": "stdout",
     "output_type": "stream",
     "text": [
      "CPU times: user 4 µs, sys: 2 µs, total: 6 µs\n",
      "Wall time: 11 µs\n"
     ]
    }
   ],
   "source": [
    "%%time\n",
    "def astar(graph, source, target, h):\n",
    "    pqvef = []\n",
    "    pqvne  = PriorityQueue()\n",
    "    pqvnef = [source]\n",
    "    pqvne.put((h(source, graph), source))\n",
    "    P = {v:\"UNDEFINED\"  for v in range(graph.v)}\n",
    "    D = {v:float('inf') for v in range(graph.v)}\n",
    "    D[source] = 0\n",
    "    \n",
    "    while not pqvne.empty():\n",
    "        (dist, currentVertex) = pqvne.get()\n",
    "        if currentVertex != target:\n",
    "            for neighbor in graph.S[currentVertex]:\n",
    "                distance = D[currentVertex] + graph.edges[currentVertex][neighbor]\n",
    "                if neighbor in pqvnef:\n",
    "                    if D[neighbor] < distance:\n",
    "                        break\n",
    "                elif neighbor in pqvef:\n",
    "                    if D[neighbor] < distance:\n",
    "                        break\n",
    "                    pqvnef += [neighbor]\n",
    "                    pqvef.remove(neighbor)\n",
    "                else:\n",
    "                    pqvnef += [neighbor]\n",
    "                    pqvne.put((h(neighbor, graph), neighbor))\n",
    "                D[neighbor] = distance\n",
    "                P[neighbor] = currentVertex\n",
    "            pqvef += [currentVertex]\n",
    "        else:\n",
    "            break\n",
    "    return D, P"
   ]
  },
  {
   "cell_type": "code",
   "execution_count": 10,
   "id": "b3a16e99",
   "metadata": {},
   "outputs": [],
   "source": [
    "graph = Graph(6)\n",
    "graph.addEdge(0,1,2)\n",
    "graph.addEdge(0,2,4)\n",
    "graph.addEdge(1,3,3)\n",
    "graph.addEdge(2,4,2)\n",
    "graph.addEdge(2,5,1)\n",
    "graph.addEdge(3,4,0)\n",
    "graph.addEdge(4,1,8)\n",
    "graph.addEdge(4,5,5)\n",
    "graph.addEdge(5,3,3)"
   ]
  },
  {
   "cell_type": "code",
   "execution_count": 11,
   "id": "8eb32a66",
   "metadata": {},
   "outputs": [],
   "source": [
    "D, P = astar(graph, 0, 5, h)"
   ]
  },
  {
   "cell_type": "code",
   "execution_count": 12,
   "id": "a536b55c",
   "metadata": {},
   "outputs": [
    {
     "data": {
      "text/plain": [
       "'0 -> 2 -> 5'"
      ]
     },
     "execution_count": 12,
     "metadata": {},
     "output_type": "execute_result"
    }
   ],
   "source": [
    "backTO(P, 0, 5)"
   ]
  },
  {
   "cell_type": "markdown",
   "id": "6b5ba330",
   "metadata": {},
   "source": [
    "## Bellman–Ford"
   ]
  },
  {
   "cell_type": "code",
   "execution_count": 13,
   "id": "eab8eeb5",
   "metadata": {},
   "outputs": [
    {
     "name": "stdout",
     "output_type": "stream",
     "text": [
      "CPU times: user 3 µs, sys: 1e+03 ns, total: 4 µs\n",
      "Wall time: 6.91 µs\n"
     ]
    }
   ],
   "source": [
    "%%time\n",
    "def bellmanFord(graph, source):\n",
    "    D = {v:float('inf') for v in range(graph.v)}\n",
    "    D[source] = 0\n",
    "    P = {v:\"UNDEFINED\"  for v in range(graph.v)}\n",
    "    \n",
    "    for v in range(graph.v - 1):\n",
    "        for currentVertex, neighbor in graph.Edges:\n",
    "            if D[currentVertex] + graph.edges[currentVertex][neighbor] < D[neighbor]:\n",
    "                D[neighbor] = D[currentVertex] + graph.edges[currentVertex][neighbor]\n",
    "                P[neighbor] = currentVertex\n",
    "    # we can add another steps, step 3 and step 4, as in Wikipedia to have more versatile algorithm. \n",
    "    return D, P"
   ]
  },
  {
   "cell_type": "code",
   "execution_count": 14,
   "id": "f8dc4c27",
   "metadata": {},
   "outputs": [],
   "source": [
    "graph = Graph(6)\n",
    "graph.addEdge(0,1,2)\n",
    "graph.addEdge(0,2,4)\n",
    "graph.addEdge(1,3,3)\n",
    "graph.addEdge(2,4,2)\n",
    "graph.addEdge(2,5,1)\n",
    "graph.addEdge(3,4,0)\n",
    "graph.addEdge(4,1,8)\n",
    "graph.addEdge(4,5,5)\n",
    "graph.addEdge(5,3,3)"
   ]
  },
  {
   "cell_type": "code",
   "execution_count": 15,
   "id": "4e4e382a",
   "metadata": {},
   "outputs": [],
   "source": [
    "D, P = astar(graph, 0, 5, h)"
   ]
  },
  {
   "cell_type": "code",
   "execution_count": 16,
   "id": "b6e1d677",
   "metadata": {},
   "outputs": [
    {
     "data": {
      "text/plain": [
       "'0 -> 2 -> 5'"
      ]
     },
     "execution_count": 16,
     "metadata": {},
     "output_type": "execute_result"
    }
   ],
   "source": [
    "backTO(P, 0, 5)"
   ]
  },
  {
   "cell_type": "markdown",
   "id": "3055cd51",
   "metadata": {},
   "source": [
    "# Minimum spanning tree"
   ]
  },
  {
   "cell_type": "markdown",
   "id": "0730209e",
   "metadata": {},
   "source": [
    "## Prim"
   ]
  },
  {
   "cell_type": "code",
   "execution_count": 24,
   "id": "e8eb8d77",
   "metadata": {},
   "outputs": [],
   "source": [
    "def prim(graph, f = lambda x,y: graph.edges[x][y]):\n",
    "    u, k = rand.randint(0, graph.v), 1\n",
    "    P = {v:False for v in range(graph.v)}\n",
    "    D = {v:\"UNDEFINED\" for v in range(graph.v)}\n",
    "    P[u] = True\n",
    "    while k < graph.v:\n",
    "        minimum = np.inf\n",
    "        a, b = 0, 0\n",
    "        for v in range(graph.v):\n",
    "            if P[v]:\n",
    "                for n in graph.S[v]:\n",
    "                    if not P[n]:\n",
    "                        if minimum > graph.edges[v][n]:\n",
    "                            minimum = graph.edges[v][n]\n",
    "                            a, b = v, n\n",
    "        P[b] = True\n",
    "        D[b] = a\n",
    "        k   += 1\n",
    "    return D"
   ]
  },
  {
   "cell_type": "code",
   "execution_count": 29,
   "id": "6604503b",
   "metadata": {},
   "outputs": [
    {
     "data": {
      "image/png": "[encoded data removed]",
      "text/plain": [
       "<Figure size 432x288 with 1 Axes>"
      ]
     },
     "metadata": {
      "needs_background": "light"
     },
     "output_type": "display_data"
    }
   ],
   "source": [
    "n = 500\n",
    "u = rand.rand(n,2)\n",
    "graph = Graph(n)\n",
    "\n",
    "for i in range(n-1):\n",
    "    for j in range(i+1, n): \n",
    "        graph.addEdge(i, j, np.linalg.norm(u[i]-u[j]), True)\n",
    "\n",
    "P = prim(graph)\n",
    "\n",
    "plt.plot(u[:,0], u[:,1], \".\")\n",
    "for v in range(graph.v):\n",
    "    if P[v]!=\"UNDEFINED\":\n",
    "        plt.plot([u[v, 0], u[P[v], 0]], [u[v, 1], u[P[v], 1]], '-')"
   ]
  },
  {
   "cell_type": "markdown",
   "id": "1c574ad1",
   "metadata": {},
   "source": [
    "# Column Generation"
   ]
  },
  {
   "cell_type": "code",
   "execution_count": null,
   "id": "ae0dfa5c",
   "metadata": {},
   "outputs": [],
   "source": []
  },
  {
   "cell_type": "code",
   "execution_count": null,
   "id": "a2039d12",
   "metadata": {},
   "outputs": [],
   "source": []
  }
 ],
 "metadata": {
  "kernelspec": {
   "display_name": "Python 3 (ipykernel)",
   "language": "python",
   "name": "python3"
  },
  "language_info": {
   "codemirror_mode": {
    "name": "ipython",
    "version": 3
   },
   "file_extension": ".py",
   "mimetype": "text/x-python",
   "name": "python",
   "nbconvert_exporter": "python",
   "pygments_lexer": "ipython3",
   "version": "3.9.13"
  }
 },
 "nbformat": 4,
 "nbformat_minor": 5
}
